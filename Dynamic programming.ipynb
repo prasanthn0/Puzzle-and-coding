{
 "cells": [
  {
   "cell_type": "markdown",
   "metadata": {},
   "source": [
    "Problem 1 :\n",
    "    Max Subset sum with no adjacents."
   ]
  },
  {
   "cell_type": "code",
   "execution_count": null,
   "metadata": {},
   "outputs": [],
   "source": [
    "def maxsubset(array):\n",
    "    if not len(array):\n",
    "        return f'Empty Array'\n",
    "    \n",
    "    elif len(array)==1:\n",
    "        return array[0]\n",
    "    \n",
    "    maxSums=array[:]\n",
    "    #maxSums[0] = array[0] i.e., slice of the array \n",
    "    maxSums[1]=max(maxSums[0],array[1])\n",
    "    \n",
    "    for i in range(2,len(array)):\n",
    "        maxSums[i]=max(maxSums[i-1],array[i]+maxSums[i-2])\n",
    "        \n",
    "    return maxSums[-1]\n",
    "\n",
    "# time , space = o(n)\n",
    "\n",
    "def maxsubset(array):\n",
    "    if not len(array):\n",
    "        return f'Empty Array'\n",
    "    \n",
    "    elif len(array)==1:\n",
    "        return array[0]\n",
    "    \n",
    "    first=max(array[0],array[1])\n",
    "    second=array[0]\n",
    "    \n",
    "    for i in range(2,len(array)):\n",
    "        current=max(first, second+array[i])\n",
    "        second=first\n",
    "        first=current\n",
    "        \n",
    "    return first\n",
    "\n",
    "# time= o(n), space=O(1)"
   ]
  },
  {
   "cell_type": "code",
   "execution_count": null,
   "metadata": {},
   "outputs": [],
   "source": []
  },
  {
   "cell_type": "markdown",
   "metadata": {},
   "source": [
    "Problem 2 : Number of ways to make change \n",
    "            Using $ as currency.  ( 1, 5, 10,25 $ )\n",
    "            \n",
    "            10 $ = 1 x 10$\n",
    "                   10 x 1$\n",
    "                   2 x 5$\n",
    "                   1 x 5$ + 5 x 1$\n",
    "                   \n",
    "                   \n",
    "                   therefore, 4 ways..\n",
    "                   \n",
    "                   \n",
    " Initialize an array with x number of elements for x $:\n",
    "              for 0 $, there is 1 way.. Base case\n",
    "              for 1 $ , is 1(coin denomination) <= 0 can we make 1 $ coin with 0$ ? No.\n",
    "                        is 1 <= 1 , yes .. 1 way\n",
    "                        ways(1) = ways (1) + ways ( 1-1 )  target amount - coin denomination\n",
    "                                = 0 + ways (0) = 1\n",
    "                                \n",
    "              for 2 $, 1<=2 , ways(2)+ways(2-1) = 1\n",
    "              so on\n",
    "              \n",
    "              if denom <= target amount :\n",
    "                   ways(i) = ways(i) + ways (target- denomination)\n",
    "                   \n",
    "                   \n",
    "                   \n",
    "         \n",
    "                          \n",
    "                                  \n",
    "        "
   ]
  },
  {
   "cell_type": "code",
   "execution_count": 9,
   "metadata": {},
   "outputs": [
    {
     "name": "stdout",
     "output_type": "stream",
     "text": [
      "4\n"
     ]
    }
   ],
   "source": [
    "def changesWays(n,denoms):\n",
    "    ways=[0 for amount in range(n+1)]\n",
    "    ways[0]=1\n",
    "    for denom in denoms:\n",
    "            for amount in range(1,n+1):\n",
    "                if denom <= amount:\n",
    "                    ways[amount] += ways[amount-denom]\n",
    "    return ways[n]\n",
    "    \n",
    "    \n",
    "y=changesWays(10,[1,5,10])\n",
    "print(y)\n",
    "        \n",
    "    \n",
    "        \n",
    "    \n",
    "    "
   ]
  },
  {
   "cell_type": "code",
   "execution_count": null,
   "metadata": {},
   "outputs": [],
   "source": []
  },
  {
   "cell_type": "code",
   "execution_count": null,
   "metadata": {},
   "outputs": [],
   "source": []
  },
  {
   "cell_type": "code",
   "execution_count": null,
   "metadata": {},
   "outputs": [],
   "source": []
  },
  {
   "cell_type": "code",
   "execution_count": null,
   "metadata": {},
   "outputs": [],
   "source": []
  },
  {
   "cell_type": "code",
   "execution_count": null,
   "metadata": {},
   "outputs": [],
   "source": []
  },
  {
   "cell_type": "code",
   "execution_count": null,
   "metadata": {},
   "outputs": [],
   "source": []
  },
  {
   "cell_type": "code",
   "execution_count": null,
   "metadata": {},
   "outputs": [],
   "source": []
  },
  {
   "cell_type": "code",
   "execution_count": null,
   "metadata": {},
   "outputs": [],
   "source": []
  }
 ],
 "metadata": {
  "kernelspec": {
   "display_name": "Python 3",
   "language": "python",
   "name": "python3"
  },
  "language_info": {
   "codemirror_mode": {
    "name": "ipython",
    "version": 3
   },
   "file_extension": ".py",
   "mimetype": "text/x-python",
   "name": "python",
   "nbconvert_exporter": "python",
   "pygments_lexer": "ipython3",
   "version": "3.8.3"
  }
 },
 "nbformat": 4,
 "nbformat_minor": 4
}
