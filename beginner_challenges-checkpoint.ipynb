{
 "cells": [
  {
   "cell_type": "code",
   "execution_count": 1,
   "metadata": {},
   "outputs": [
    {
     "name": "stdout",
     "output_type": "stream",
     "text": [
      "hi\n"
     ]
    }
   ],
   "source": [
    "print('hi')#comment"
   ]
  },
  {
   "cell_type": "code",
   "execution_count": 2,
   "metadata": {},
   "outputs": [
    {
     "name": "stdout",
     "output_type": "stream",
     "text": [
      "comment will not be printed if it is after #\n"
     ]
    }
   ],
   "source": [
    "print('comment will not be printed if it is after #')#print me "
   ]
  },
  {
   "cell_type": "code",
   "execution_count": 5,
   "metadata": {},
   "outputs": [
    {
     "name": "stdout",
     "output_type": "stream",
     "text": [
      "\n",
      "Enter your name: Pras\n",
      "Hello Pras\n"
     ]
    }
   ],
   "source": [
    "print('This is a simple program')\n",
    "print()\n",
    "name=input('Enter your name: ')\n",
    "print(\"Hello\",name)"
   ]
  },
  {
   "cell_type": "code",
   "execution_count": 9,
   "metadata": {},
   "outputs": [
    {
     "name": "stdout",
     "output_type": "stream",
     "text": [
      "Hello How are you ?\n"
     ]
    }
   ],
   "source": [
    "s1=\"Hello\"\n",
    "s2=\"How\"\n",
    "s3=\"are\"\n",
    "s4=\"you\"\n",
    "a=6\n",
    "print(s1,s2,s3,s4,\"?\")"
   ]
  },
  {
   "cell_type": "code",
   "execution_count": 10,
   "metadata": {},
   "outputs": [
    {
     "name": "stdout",
     "output_type": "stream",
     "text": [
      "Enter your name prashanth\n",
      "Hello prashanth\n"
     ]
    }
   ],
   "source": [
    "#Challenge 1\n",
    "\n",
    "name=input(\"Enter your name \")\n",
    "print(\"Hello\",name)"
   ]
  },
  {
   "cell_type": "code",
   "execution_count": 12,
   "metadata": {},
   "outputs": [
    {
     "name": "stdout",
     "output_type": "stream",
     "text": [
      "Enter your first name Prashanth\n",
      "Enter your last name N\n",
      "Hello Prashanth N\n"
     ]
    }
   ],
   "source": [
    "#chal 2\n",
    "\n",
    "Firstname=input(\"Enter your first name \")\n",
    "lastname=input(\"Enter your last name \")\n",
    "print(\"Hello\",Firstname,lastname)"
   ]
  },
  {
   "cell_type": "code",
   "execution_count": 19,
   "metadata": {},
   "outputs": [
    {
     "name": "stdout",
     "output_type": "stream",
     "text": [
      "What do u call a bear with no teeth ? \n",
      "A gummy bear\n"
     ]
    }
   ],
   "source": [
    "#chal 3\n",
    "\n",
    "print('What do u call a bear with no teeth ? \\nA gummy bear')"
   ]
  },
  {
   "cell_type": "code",
   "execution_count": 24,
   "metadata": {},
   "outputs": [
    {
     "name": "stdout",
     "output_type": "stream",
     "text": [
      "Enter your first number3\n",
      "Enter your second number4\n",
      "The total is 7\n"
     ]
    }
   ],
   "source": [
    "#chal 4\n",
    "\n",
    "a=int(input('Enter your first number'))\n",
    "b=int(input('Enter your second number'))\n",
    "sum=a+b\n",
    "print('The total is',sum)\n"
   ]
  },
  {
   "cell_type": "code",
   "execution_count": 25,
   "metadata": {},
   "outputs": [
    {
     "name": "stdout",
     "output_type": "stream",
     "text": [
      "Enter the first number2\n",
      "Enter the second number3\n",
      "Enter the third number4\n",
      "The answer is 20\n"
     ]
    }
   ],
   "source": [
    "#chal 5\n",
    "\n",
    "a=int(input('Enter the first number'))\n",
    "b=int(input('Enter the second number'))\n",
    "c=int(input('Enter the third number'))\n",
    "answer=(a+b)*c\n",
    "print(\"The answer is\",answer)"
   ]
  },
  {
   "cell_type": "code",
   "execution_count": 27,
   "metadata": {},
   "outputs": [
    {
     "name": "stdout",
     "output_type": "stream",
     "text": [
      "Hi, how many slices of pizza did you start with 8\n",
      "How many slices did you eat 4\n",
      "You have 4 slices left\n"
     ]
    }
   ],
   "source": [
    "#chal 6\n",
    "\n",
    "a=int(input('Hi, how many slices of pizza did you start with '))\n",
    "b=int(input('How many slices did you eat '))\n",
    "rem=a-b\n",
    "print(\"You have {} slices left\".format(rem))"
   ]
  },
  {
   "cell_type": "code",
   "execution_count": 34,
   "metadata": {},
   "outputs": [
    {
     "name": "stdout",
     "output_type": "stream",
     "text": [
      "What is your name? Prashanth\n",
      "What is your age? 27\n",
      "Prashanth next birthday your age will be 28\n"
     ]
    }
   ],
   "source": [
    "#chal 7\n",
    "\n",
    "name=input('What is your name? ')\n",
    "age=int(input('What is your age? '))\n",
    "age1=age+1\n",
    "print(name,\"next birthday your age will be\", age1)"
   ]
  },
  {
   "cell_type": "code",
   "execution_count": 39,
   "metadata": {},
   "outputs": [
    {
     "name": "stdout",
     "output_type": "stream",
     "text": [
      "What is the total price of the bill? 123456\n",
      "How many diners? 45\n",
      "Amount to be paid by each diner is  2743.4666666666667\n"
     ]
    }
   ],
   "source": [
    "#chal 8\n",
    "\n",
    "price=float(input(\"What is the total price of the bill? \"))\n",
    "diner=int(input(\"How many diners? \"))\n",
    "amount=price/diner\n",
    "print(\"Amount to be paid by each diner is \",amount)"
   ]
  },
  {
   "cell_type": "code",
   "execution_count": 42,
   "metadata": {},
   "outputs": [
    {
     "name": "stdout",
     "output_type": "stream",
     "text": [
      "Enter the number of days 5.5\n",
      "5.5 days have 132.0 hours or 7920.0 minutes or 475200.0 seconds\n"
     ]
    }
   ],
   "source": [
    "#chal 9\n",
    "\n",
    "days=float(input(\"Enter the number of days \"))\n",
    "hours=days*24\n",
    "minutes=hours*60\n",
    "seconds=minutes*60\n",
    "print(\"{} days have {} hours or {} minutes or {} seconds\".format(days,hours,minutes,seconds))"
   ]
  },
  {
   "cell_type": "code",
   "execution_count": 45,
   "metadata": {},
   "outputs": [
    {
     "name": "stdout",
     "output_type": "stream",
     "text": [
      "Enter the number of kilograms 1\n",
      "1.0 kilograms is equal to 2204.0 pounds\n"
     ]
    }
   ],
   "source": [
    "#chal 10\n",
    "\n",
    "kg=float(input(\"Enter the number of kilograms \"))\n",
    "pounds=kg*2204\n",
    "print(\"{} kilograms is equal to {} pounds\".format(kg,pounds))"
   ]
  },
  {
   "cell_type": "code",
   "execution_count": 49,
   "metadata": {},
   "outputs": [
    {
     "name": "stdout",
     "output_type": "stream",
     "text": [
      "Enter a number above 100 :789\n",
      "Enter a number between 1 and 10 :6\n",
      "789 is 131 times of 6 \n"
     ]
    }
   ],
   "source": [
    "#chal 11\n",
    "\n",
    "a=int(input('Enter a number above 100 :'))\n",
    "b=int(input('Enter a number between 1 and 10 :'))\n",
    "out=a//b\n",
    "print('{} is {} times of {} '.format(a,out,b))\n",
    "\n"
   ]
  },
  {
   "cell_type": "code",
   "execution_count": 1,
   "metadata": {},
   "outputs": [
    {
     "name": "stdout",
     "output_type": "stream",
     "text": [
      "Enter first number 4\n",
      "Enter second number7\n",
      "4 7\n"
     ]
    }
   ],
   "source": [
    "#chal 12\n",
    "\n",
    "a=int(input(\"Enter first number \"))\n",
    "b=int(input(\"Enter second number\"))\n",
    "if a>b:\n",
    "    print(b,a)\n",
    "else:\n",
    "    print(a,b)\n",
    "\n"
   ]
  },
  {
   "cell_type": "code",
   "execution_count": 5,
   "metadata": {},
   "outputs": [
    {
     "name": "stdout",
     "output_type": "stream",
     "text": [
      "What is your favortie color? yellow\n",
      "yellow is not my favorite color, I prefer Red\n"
     ]
    }
   ],
   "source": [
    "#chal 15\n",
    "\n",
    "col=input(\"What is your favortie color? \")\n",
    "if col=='RED'or col=='Red'or col=='red':\n",
    "    print(\"Red is my favorite color too\" )\n",
    "else:\n",
    "    print(col,\"is not my favorite color, I prefer Red\")"
   ]
  },
  {
   "cell_type": "code",
   "execution_count": 6,
   "metadata": {},
   "outputs": [
    {
     "name": "stdout",
     "output_type": "stream",
     "text": [
      "ENter your namePrashanth\n",
      "The length of your name is  9\n"
     ]
    }
   ],
   "source": [
    "#chal 20\n",
    "\n",
    "name=input(\"ENter your name\")\n",
    "leng=len(name)\n",
    "print(\"The length of your name is \",leng)"
   ]
  },
  {
   "cell_type": "code",
   "execution_count": 8,
   "metadata": {},
   "outputs": [
    {
     "name": "stdout",
     "output_type": "stream",
     "text": [
      "Enter your First name : sachin\n",
      "Enter your sur name : tendulkar\n",
      "sachin tendulkar\n"
     ]
    }
   ],
   "source": [
    "#chal 21\n",
    "\n",
    "firstname=input(\"Enter your First name : \")\n",
    "surname=input(\"Enter your sur name : \")\n",
    "fullname=firstname + \" \" + surname\n",
    "print(fullname)"
   ]
  },
  {
   "cell_type": "code",
   "execution_count": 9,
   "metadata": {},
   "outputs": [
    {
     "name": "stdout",
     "output_type": "stream",
     "text": [
      "Enter your First name : sachin\n",
      "Enter your sur name : tendulkar\n",
      "Sachin Tendulkar\n"
     ]
    }
   ],
   "source": [
    "#chal 22\n",
    "\n",
    "firstname=input(\"Enter your First name : \")\n",
    "surname=input(\"Enter your sur name : \")\n",
    "fullname=firstname + \" \" + surname\n",
    "fullname= fullname.title()\n",
    "print(fullname)\n",
    "\n"
   ]
  },
  {
   "cell_type": "code",
   "execution_count": 2,
   "metadata": {},
   "outputs": [
    {
     "name": "stdout",
     "output_type": "stream",
     "text": [
      "Enter your name : mahendrabahubali\n",
      "mahendrabahubali\n"
     ]
    }
   ],
   "source": [
    "#chal 23\n",
    "\n",
    "name=input(\"Enter your name : \")\n",
    "name_len=len(name)\n",
    "if name_len<5:\n",
    "    surname=input(\"Enter your surname : \")\n",
    "    fullname=name+surname\n",
    "    fullname=fullname.upper()\n",
    "    print(fullname)\n",
    "else:\n",
    "    name=name.lower()\n",
    "    print(name)"
   ]
  },
  {
   "cell_type": "code",
   "execution_count": 3,
   "metadata": {},
   "outputs": [
    {
     "name": "stdout",
     "output_type": "stream",
     "text": [
      "Enter your statement in English : haha what is that\n",
      "ahahay  hatway  isway  hattay  "
     ]
    }
   ],
   "source": [
    "#chal 26\n",
    "\n",
    "conv=input(\"Enter your statement in English : \")\n",
    "conv=conv.split()\n",
    "for i in conv:\n",
    "    temp=i.lower()\n",
    "    if temp[0]=='a' or temp[0]=='e'or temp[0]=='i'or temp[0]=='o'or temp[0]=='u':\n",
    "        temp=temp+'way'\n",
    "        print(temp,' ',end='')\n",
    "    else:\n",
    "        leng=len(temp)\n",
    "        new=temp[1:leng]+temp[0]+'ay'\n",
    "        print(new,' ',end='')"
   ]
  },
  {
   "cell_type": "code",
   "execution_count": 5,
   "metadata": {},
   "outputs": [
    {
     "name": "stdout",
     "output_type": "stream",
     "text": [
      "Enter a decimal number : 5.67890\n",
      "The answer is  11.36\n"
     ]
    }
   ],
   "source": [
    "#chal 28\n",
    "\n",
    "num=float(input('Enter a decimal number : '))\n",
    "ans=num*2\n",
    "ans=round(ans,2)\n",
    "print('The answer is ',ans)"
   ]
  },
  {
   "cell_type": "code",
   "execution_count": 6,
   "metadata": {},
   "outputs": [
    {
     "name": "stdout",
     "output_type": "stream",
     "text": [
      "1. Triangle\n",
      "2. Square\n",
      "Enter an appropriate number 6\n",
      "Invalid input. Enter 1 for a triangle or 2 for a square\n"
     ]
    }
   ],
   "source": [
    "#chal 34\n",
    "\n",
    "print(\"1. Triangle\\n2. Square\")\n",
    "num=int(input(\"Enter an appropriate number \"))\n",
    "if num!=1 and num!=2:\n",
    "    print(\"Invalid input. Enter 1 for a triangle or 2 for a square\")\n",
    "else:\n",
    "    if num==1:\n",
    "        base=int(input('Enter the base length of the traingle'))\n",
    "        height=int(input('Enter the height of the trinalge'))\n",
    "        area=(base*height)/2\n",
    "    else:\n",
    "        side=int(input('Enter the side of the square'))\n",
    "        area=side*side\n",
    "    print('The area of the traingle you entered is',area)"
   ]
  },
  {
   "cell_type": "code",
   "execution_count": 8,
   "metadata": {},
   "outputs": [
    {
     "name": "stdout",
     "output_type": "stream",
     "text": [
      "Enter a number : 4\n",
      "Do you want this number included? Yes or No :: yes\n",
      "Enter a number : 6\n",
      "Do you want this number included? Yes or No :: no\n",
      "Enter a number : 23456\n",
      "Do you want this number included? Yes or No :: yes\n",
      "Enter a number : 1029485868586\n",
      "Do you want this number included? Yes or No :: no\n",
      "Enter a number : 1\n",
      "Do you want this number included? Yes or No :: yes\n",
      "THe total is:  23461\n"
     ]
    }
   ],
   "source": [
    "#chal 40\n",
    "total=0\n",
    "for i in range(0,5):\n",
    "    num=int(input(\"Enter a number : \"))\n",
    "    con=input(\"Do you want this number included? Yes or No :: \")\n",
    "    con=con.lower()\n",
    "    if con==\"yes\":\n",
    "        total=total+num\n",
    "    else:\n",
    "        continue\n",
    "print(\"THe total is: \",total)\n",
    "    "
   ]
  },
  {
   "cell_type": "code",
   "execution_count": 2,
   "metadata": {},
   "outputs": [
    {
     "name": "stdout",
     "output_type": "stream",
     "text": [
      "Do you want to try your luck? yes\n",
      "You have hatched an epic\n"
     ]
    }
   ],
   "source": [
    "#chal 50 To code RNG\n",
    "#1% mythic, 4% legendary , 25% superepic , 70% epic\n",
    "\n",
    "import random\n",
    "sel=input(\"Do you want to try your luck? \")\n",
    "sel=sel.lower()\n",
    "if sel==\"yes\":\n",
    "    rng=random.randint(1,101)\n",
    "    if rng==1:\n",
    "        print(\"You have hatched a mythic\")\n",
    "    if rng>=2 and rng<=5:\n",
    "        print(\"You have hatched a legendary\")\n",
    "    if rng>=6 and rng<=30:\n",
    "        print('You have hatched a superepic')\n",
    "    if rng>=31 and rng<=100:\n",
    "        print('You have hatched an epic')\n",
    "else:\n",
    "    print('Thanks for playing')\n",
    "        "
   ]
  },
  {
   "cell_type": "code",
   "execution_count": 25,
   "metadata": {},
   "outputs": [
    {
     "name": "stdout",
     "output_type": "stream",
     "text": [
      "Do you want to try your luck? yes\n",
      "You have hatched a superepic\n",
      "You have hatched an epic\n",
      "You have hatched a legendary\n",
      "You have hatched an epic\n",
      "You have hatched an epic\n",
      "You have hatched a superepic\n",
      "You have hatched an epic\n",
      "You have hatched an epic\n",
      "You have hatched an epic\n"
     ]
    }
   ],
   "source": [
    "#chal 50 To code RNG\n",
    "#1% mythic, 4% legendary , 25% superepic , 70% epic\n",
    "\n",
    "import random\n",
    "sel=input(\"Do you want to try your luck? \")\n",
    "sel=sel.lower()\n",
    "if sel==\"yes\":\n",
    "    for i in range(1,10):\n",
    "        rng=random.randint(1,101)\n",
    "        if rng==1:\n",
    "            print(\"You have hatched a mythic\")\n",
    "        if rng>=2 and rng<=5:\n",
    "            print(\"You have hatched a legendary\")\n",
    "        if rng>=6 and rng<=30:\n",
    "            print('You have hatched a superepic')\n",
    "        if rng>=31 and rng<=100:\n",
    "            print('You have hatched an epic')\n",
    "else:\n",
    "    print('Thanks for playing')\n"
   ]
  },
  {
   "cell_type": "code",
   "execution_count": 7,
   "metadata": {},
   "outputs": [],
   "source": [
    "#chal 60+\n",
    "\n",
    "import turtle\n",
    "\n",
    "turtle.color(\"red\",'yellow')\n",
    "turtle.begin_fill()\n",
    "for i in range(4):\n",
    "    turtle.forward(100)\n",
    "    turtle.right(90)\n",
    "    \n",
    "turtle.end_fill()\n",
    "\n",
    "turtle.penup()\n",
    "turtle.forward(150)\n",
    "turtle.pendown()\n",
    "\n",
    "turtle.color(\"red\",'yellow')\n",
    "turtle.begin_fill()\n",
    "for i in range(4):\n",
    "    turtle.forward(100)\n",
    "    turtle.right(90)\n",
    "    \n",
    "turtle.end_fill()\n",
    "\n",
    "turtle.exitonclick()\n",
    "\n"
   ]
  },
  {
   "cell_type": "code",
   "execution_count": 18,
   "metadata": {},
   "outputs": [],
   "source": [
    "#chal 60+part2\n",
    "\n",
    "import turtle\n",
    "\n",
    "turtle.speed(10)\n",
    "\n",
    "turtle.color('red','yellow')\n",
    "turtle.begin_fill()\n",
    "for i in range(50):\n",
    "    turtle.forward(250)\n",
    "    turtle.left(170)\n",
    "turtle.end_fill()\n",
    "turtle.exitonclick()"
   ]
  },
  {
   "cell_type": "code",
   "execution_count": 9,
   "metadata": {},
   "outputs": [
    {
     "ename": "Terminator",
     "evalue": "",
     "output_type": "error",
     "traceback": [
      "\u001b[1;31m---------------------------------------------------------------------------\u001b[0m",
      "\u001b[1;31mTclError\u001b[0m                                  Traceback (most recent call last)",
      "\u001b[1;32mC:\\ProgramData\\Anaconda3\\lib\\turtle.py\u001b[0m in \u001b[0;36mforward\u001b[1;34m(distance)\u001b[0m\n",
      "\u001b[1;32mC:\\ProgramData\\Anaconda3\\lib\\turtle.py\u001b[0m in \u001b[0;36mforward\u001b[1;34m(self, distance)\u001b[0m\n\u001b[0;32m   1636\u001b[0m         \"\"\"\n\u001b[1;32m-> 1637\u001b[1;33m         \u001b[0mself\u001b[0m\u001b[1;33m.\u001b[0m\u001b[0m_go\u001b[0m\u001b[1;33m(\u001b[0m\u001b[0mdistance\u001b[0m\u001b[1;33m)\u001b[0m\u001b[1;33m\u001b[0m\u001b[1;33m\u001b[0m\u001b[0m\n\u001b[0m\u001b[0;32m   1638\u001b[0m \u001b[1;33m\u001b[0m\u001b[0m\n",
      "\u001b[1;32mC:\\ProgramData\\Anaconda3\\lib\\turtle.py\u001b[0m in \u001b[0;36m_go\u001b[1;34m(self, distance)\u001b[0m\n\u001b[0;32m   1604\u001b[0m         \u001b[0mende\u001b[0m \u001b[1;33m=\u001b[0m \u001b[0mself\u001b[0m\u001b[1;33m.\u001b[0m\u001b[0m_position\u001b[0m \u001b[1;33m+\u001b[0m \u001b[0mself\u001b[0m\u001b[1;33m.\u001b[0m\u001b[0m_orient\u001b[0m \u001b[1;33m*\u001b[0m \u001b[0mdistance\u001b[0m\u001b[1;33m\u001b[0m\u001b[1;33m\u001b[0m\u001b[0m\n\u001b[1;32m-> 1605\u001b[1;33m         \u001b[0mself\u001b[0m\u001b[1;33m.\u001b[0m\u001b[0m_goto\u001b[0m\u001b[1;33m(\u001b[0m\u001b[0mende\u001b[0m\u001b[1;33m)\u001b[0m\u001b[1;33m\u001b[0m\u001b[1;33m\u001b[0m\u001b[0m\n\u001b[0m\u001b[0;32m   1606\u001b[0m \u001b[1;33m\u001b[0m\u001b[0m\n",
      "\u001b[1;32mC:\\ProgramData\\Anaconda3\\lib\\turtle.py\u001b[0m in \u001b[0;36m_goto\u001b[1;34m(self, end)\u001b[0m\n\u001b[0;32m   3175\u001b[0m                 \u001b[1;32mif\u001b[0m \u001b[0mself\u001b[0m\u001b[1;33m.\u001b[0m\u001b[0m_drawing\u001b[0m\u001b[1;33m:\u001b[0m\u001b[1;33m\u001b[0m\u001b[1;33m\u001b[0m\u001b[0m\n\u001b[1;32m-> 3176\u001b[1;33m                     screen._drawline(self.drawingLineItem,\n\u001b[0m\u001b[0;32m   3177\u001b[0m                                      \u001b[1;33m(\u001b[0m\u001b[0mstart\u001b[0m\u001b[1;33m,\u001b[0m \u001b[0mself\u001b[0m\u001b[1;33m.\u001b[0m\u001b[0m_position\u001b[0m\u001b[1;33m)\u001b[0m\u001b[1;33m,\u001b[0m\u001b[1;33m\u001b[0m\u001b[1;33m\u001b[0m\u001b[0m\n",
      "\u001b[1;32mC:\\ProgramData\\Anaconda3\\lib\\turtle.py\u001b[0m in \u001b[0;36m_drawline\u001b[1;34m(self, lineitem, coordlist, fill, width, top)\u001b[0m\n\u001b[0;32m    544\u001b[0m                 \u001b[0mcl\u001b[0m\u001b[1;33m.\u001b[0m\u001b[0mappend\u001b[0m\u001b[1;33m(\u001b[0m\u001b[1;33m-\u001b[0m\u001b[0my\u001b[0m \u001b[1;33m*\u001b[0m \u001b[0mself\u001b[0m\u001b[1;33m.\u001b[0m\u001b[0myscale\u001b[0m\u001b[1;33m)\u001b[0m\u001b[1;33m\u001b[0m\u001b[1;33m\u001b[0m\u001b[0m\n\u001b[1;32m--> 545\u001b[1;33m             \u001b[0mself\u001b[0m\u001b[1;33m.\u001b[0m\u001b[0mcv\u001b[0m\u001b[1;33m.\u001b[0m\u001b[0mcoords\u001b[0m\u001b[1;33m(\u001b[0m\u001b[0mlineitem\u001b[0m\u001b[1;33m,\u001b[0m \u001b[1;33m*\u001b[0m\u001b[0mcl\u001b[0m\u001b[1;33m)\u001b[0m\u001b[1;33m\u001b[0m\u001b[1;33m\u001b[0m\u001b[0m\n\u001b[0m\u001b[0;32m    546\u001b[0m         \u001b[1;32mif\u001b[0m \u001b[0mfill\u001b[0m \u001b[1;32mis\u001b[0m \u001b[1;32mnot\u001b[0m \u001b[1;32mNone\u001b[0m\u001b[1;33m:\u001b[0m\u001b[1;33m\u001b[0m\u001b[1;33m\u001b[0m\u001b[0m\n",
      "\u001b[1;32m<string>\u001b[0m in \u001b[0;36mcoords\u001b[1;34m(self, *args, **kw)\u001b[0m\n",
      "\u001b[1;32mC:\\ProgramData\\Anaconda3\\lib\\tkinter\\__init__.py\u001b[0m in \u001b[0;36mcoords\u001b[1;34m(self, *args)\u001b[0m\n\u001b[0;32m   2760\u001b[0m                            self.tk.splitlist(\n\u001b[1;32m-> 2761\u001b[1;33m                    self.tk.call((self._w, 'coords') + args))]\n\u001b[0m\u001b[0;32m   2762\u001b[0m \u001b[1;33m\u001b[0m\u001b[0m\n",
      "\u001b[1;31mTclError\u001b[0m: invalid command name \".!canvas\"",
      "\nDuring handling of the above exception, another exception occurred:\n",
      "\u001b[1;31mTerminator\u001b[0m                                Traceback (most recent call last)",
      "\u001b[1;32m<ipython-input-9-0b07087d9812>\u001b[0m in \u001b[0;36m<module>\u001b[1;34m\u001b[0m\n\u001b[0;32m     10\u001b[0m         \u001b[0mt\u001b[0m\u001b[1;33m.\u001b[0m\u001b[0mcolormode\u001b[0m\u001b[1;33m(\u001b[0m\u001b[1;36m255\u001b[0m\u001b[1;33m)\u001b[0m\u001b[1;33m\u001b[0m\u001b[1;33m\u001b[0m\u001b[0m\n\u001b[0;32m     11\u001b[0m         \u001b[0mt\u001b[0m\u001b[1;33m.\u001b[0m\u001b[0mpencolor\u001b[0m\u001b[1;33m(\u001b[0m\u001b[0mr\u001b[0m\u001b[1;33m,\u001b[0m\u001b[0mg\u001b[0m\u001b[1;33m,\u001b[0m\u001b[0mb\u001b[0m\u001b[1;33m)\u001b[0m\u001b[1;33m\u001b[0m\u001b[1;33m\u001b[0m\u001b[0m\n\u001b[1;32m---> 12\u001b[1;33m         \u001b[0mt\u001b[0m\u001b[1;33m.\u001b[0m\u001b[0mforward\u001b[0m\u001b[1;33m(\u001b[0m\u001b[0mi\u001b[0m\u001b[1;33m)\u001b[0m\u001b[1;33m\u001b[0m\u001b[1;33m\u001b[0m\u001b[0m\n\u001b[0m\u001b[0;32m     13\u001b[0m         \u001b[0mt\u001b[0m\u001b[1;33m.\u001b[0m\u001b[0mleft\u001b[0m\u001b[1;33m(\u001b[0m\u001b[1;36m90\u001b[0m\u001b[1;33m)\u001b[0m\u001b[1;33m\u001b[0m\u001b[1;33m\u001b[0m\u001b[0m\n\u001b[0;32m     14\u001b[0m \u001b[1;33m\u001b[0m\u001b[0m\n",
      "\u001b[1;32mC:\\ProgramData\\Anaconda3\\lib\\turtle.py\u001b[0m in \u001b[0;36mforward\u001b[1;34m(distance)\u001b[0m\n",
      "\u001b[1;31mTerminator\u001b[0m: "
     ]
    }
   ],
   "source": [
    "import turtle as t\n",
    "import math as m\n",
    "from random import randint\n",
    "t.speed(10)\n",
    "\n",
    "for i in range(1000):\n",
    "        r=randint(0,255)\n",
    "        g=randint(0,255)\n",
    "        b=randint(0,255)\n",
    "        t.colormode(255)\n",
    "        t.pencolor(r,g,b)\n",
    "        t.forward(m.sqrt(i))\n",
    "        t.left(i%50)\n",
    "    \n",
    "t.exitonclick()"
   ]
  },
  {
   "cell_type": "code",
   "execution_count": 1,
   "metadata": {},
   "outputs": [
    {
     "ename": "Terminator",
     "evalue": "",
     "output_type": "error",
     "traceback": [
      "\u001b[1;31m---------------------------------------------------------------------------\u001b[0m",
      "\u001b[1;31mTerminator\u001b[0m                                Traceback (most recent call last)",
      "\u001b[1;32m<ipython-input-1-71dda728f46f>\u001b[0m in \u001b[0;36m<module>\u001b[1;34m\u001b[0m\n\u001b[0;32m     15\u001b[0m \u001b[1;33m\u001b[0m\u001b[0m\n\u001b[0;32m     16\u001b[0m \u001b[1;33m\u001b[0m\u001b[0m\n\u001b[1;32m---> 17\u001b[1;33m \u001b[0mstar\u001b[0m\u001b[1;33m(\u001b[0m\u001b[0mturtle\u001b[0m\u001b[1;33m,\u001b[0m\u001b[1;36m150\u001b[0m\u001b[1;33m)\u001b[0m\u001b[1;33m\u001b[0m\u001b[1;33m\u001b[0m\u001b[0m\n\u001b[0m\u001b[0;32m     18\u001b[0m \u001b[1;33m\u001b[0m\u001b[0m\n\u001b[0;32m     19\u001b[0m \u001b[1;33m\u001b[0m\u001b[0m\n",
      "\u001b[1;32m<ipython-input-1-71dda728f46f>\u001b[0m in \u001b[0;36mstar\u001b[1;34m(turtle, size)\u001b[0m\n\u001b[0;32m     10\u001b[0m     \u001b[1;32mfor\u001b[0m \u001b[0mi\u001b[0m \u001b[1;32min\u001b[0m \u001b[0mrange\u001b[0m\u001b[1;33m(\u001b[0m\u001b[1;36m5\u001b[0m\u001b[1;33m)\u001b[0m\u001b[1;33m:\u001b[0m\u001b[1;33m\u001b[0m\u001b[1;33m\u001b[0m\u001b[0m\n\u001b[0;32m     11\u001b[0m         \u001b[0mturtle\u001b[0m\u001b[1;33m.\u001b[0m\u001b[0mforward\u001b[0m\u001b[1;33m(\u001b[0m\u001b[0msize\u001b[0m\u001b[1;33m)\u001b[0m\u001b[1;33m\u001b[0m\u001b[1;33m\u001b[0m\u001b[0m\n\u001b[1;32m---> 12\u001b[1;33m         \u001b[0mstar\u001b[0m\u001b[1;33m(\u001b[0m\u001b[0mturtle\u001b[0m\u001b[1;33m,\u001b[0m\u001b[0msize\u001b[0m\u001b[1;33m/\u001b[0m\u001b[1;36m2\u001b[0m\u001b[1;33m)\u001b[0m\u001b[1;33m\u001b[0m\u001b[1;33m\u001b[0m\u001b[0m\n\u001b[0m\u001b[0;32m     13\u001b[0m         \u001b[0mturtle\u001b[0m\u001b[1;33m.\u001b[0m\u001b[0mleft\u001b[0m\u001b[1;33m(\u001b[0m\u001b[1;36m216\u001b[0m\u001b[1;33m)\u001b[0m\u001b[1;33m\u001b[0m\u001b[1;33m\u001b[0m\u001b[0m\n\u001b[0;32m     14\u001b[0m     \u001b[1;32mreturn\u001b[0m\u001b[1;33m(\u001b[0m\u001b[1;33m)\u001b[0m\u001b[1;33m\u001b[0m\u001b[1;33m\u001b[0m\u001b[0m\n",
      "\u001b[1;32m<ipython-input-1-71dda728f46f>\u001b[0m in \u001b[0;36mstar\u001b[1;34m(turtle, size)\u001b[0m\n\u001b[0;32m     10\u001b[0m     \u001b[1;32mfor\u001b[0m \u001b[0mi\u001b[0m \u001b[1;32min\u001b[0m \u001b[0mrange\u001b[0m\u001b[1;33m(\u001b[0m\u001b[1;36m5\u001b[0m\u001b[1;33m)\u001b[0m\u001b[1;33m:\u001b[0m\u001b[1;33m\u001b[0m\u001b[1;33m\u001b[0m\u001b[0m\n\u001b[0;32m     11\u001b[0m         \u001b[0mturtle\u001b[0m\u001b[1;33m.\u001b[0m\u001b[0mforward\u001b[0m\u001b[1;33m(\u001b[0m\u001b[0msize\u001b[0m\u001b[1;33m)\u001b[0m\u001b[1;33m\u001b[0m\u001b[1;33m\u001b[0m\u001b[0m\n\u001b[1;32m---> 12\u001b[1;33m         \u001b[0mstar\u001b[0m\u001b[1;33m(\u001b[0m\u001b[0mturtle\u001b[0m\u001b[1;33m,\u001b[0m\u001b[0msize\u001b[0m\u001b[1;33m/\u001b[0m\u001b[1;36m2\u001b[0m\u001b[1;33m)\u001b[0m\u001b[1;33m\u001b[0m\u001b[1;33m\u001b[0m\u001b[0m\n\u001b[0m\u001b[0;32m     13\u001b[0m         \u001b[0mturtle\u001b[0m\u001b[1;33m.\u001b[0m\u001b[0mleft\u001b[0m\u001b[1;33m(\u001b[0m\u001b[1;36m216\u001b[0m\u001b[1;33m)\u001b[0m\u001b[1;33m\u001b[0m\u001b[1;33m\u001b[0m\u001b[0m\n\u001b[0;32m     14\u001b[0m     \u001b[1;32mreturn\u001b[0m\u001b[1;33m(\u001b[0m\u001b[1;33m)\u001b[0m\u001b[1;33m\u001b[0m\u001b[1;33m\u001b[0m\u001b[0m\n",
      "\u001b[1;32m<ipython-input-1-71dda728f46f>\u001b[0m in \u001b[0;36mstar\u001b[1;34m(turtle, size)\u001b[0m\n\u001b[0;32m     10\u001b[0m     \u001b[1;32mfor\u001b[0m \u001b[0mi\u001b[0m \u001b[1;32min\u001b[0m \u001b[0mrange\u001b[0m\u001b[1;33m(\u001b[0m\u001b[1;36m5\u001b[0m\u001b[1;33m)\u001b[0m\u001b[1;33m:\u001b[0m\u001b[1;33m\u001b[0m\u001b[1;33m\u001b[0m\u001b[0m\n\u001b[0;32m     11\u001b[0m         \u001b[0mturtle\u001b[0m\u001b[1;33m.\u001b[0m\u001b[0mforward\u001b[0m\u001b[1;33m(\u001b[0m\u001b[0msize\u001b[0m\u001b[1;33m)\u001b[0m\u001b[1;33m\u001b[0m\u001b[1;33m\u001b[0m\u001b[0m\n\u001b[1;32m---> 12\u001b[1;33m         \u001b[0mstar\u001b[0m\u001b[1;33m(\u001b[0m\u001b[0mturtle\u001b[0m\u001b[1;33m,\u001b[0m\u001b[0msize\u001b[0m\u001b[1;33m/\u001b[0m\u001b[1;36m2\u001b[0m\u001b[1;33m)\u001b[0m\u001b[1;33m\u001b[0m\u001b[1;33m\u001b[0m\u001b[0m\n\u001b[0m\u001b[0;32m     13\u001b[0m         \u001b[0mturtle\u001b[0m\u001b[1;33m.\u001b[0m\u001b[0mleft\u001b[0m\u001b[1;33m(\u001b[0m\u001b[1;36m216\u001b[0m\u001b[1;33m)\u001b[0m\u001b[1;33m\u001b[0m\u001b[1;33m\u001b[0m\u001b[0m\n\u001b[0;32m     14\u001b[0m     \u001b[1;32mreturn\u001b[0m\u001b[1;33m(\u001b[0m\u001b[1;33m)\u001b[0m\u001b[1;33m\u001b[0m\u001b[1;33m\u001b[0m\u001b[0m\n",
      "\u001b[1;32m<ipython-input-1-71dda728f46f>\u001b[0m in \u001b[0;36mstar\u001b[1;34m(turtle, size)\u001b[0m\n\u001b[0;32m      9\u001b[0m         \u001b[1;32mreturn\u001b[0m\u001b[1;33m(\u001b[0m\u001b[1;33m)\u001b[0m\u001b[1;33m\u001b[0m\u001b[1;33m\u001b[0m\u001b[0m\n\u001b[0;32m     10\u001b[0m     \u001b[1;32mfor\u001b[0m \u001b[0mi\u001b[0m \u001b[1;32min\u001b[0m \u001b[0mrange\u001b[0m\u001b[1;33m(\u001b[0m\u001b[1;36m5\u001b[0m\u001b[1;33m)\u001b[0m\u001b[1;33m:\u001b[0m\u001b[1;33m\u001b[0m\u001b[1;33m\u001b[0m\u001b[0m\n\u001b[1;32m---> 11\u001b[1;33m         \u001b[0mturtle\u001b[0m\u001b[1;33m.\u001b[0m\u001b[0mforward\u001b[0m\u001b[1;33m(\u001b[0m\u001b[0msize\u001b[0m\u001b[1;33m)\u001b[0m\u001b[1;33m\u001b[0m\u001b[1;33m\u001b[0m\u001b[0m\n\u001b[0m\u001b[0;32m     12\u001b[0m         \u001b[0mstar\u001b[0m\u001b[1;33m(\u001b[0m\u001b[0mturtle\u001b[0m\u001b[1;33m,\u001b[0m\u001b[0msize\u001b[0m\u001b[1;33m/\u001b[0m\u001b[1;36m2\u001b[0m\u001b[1;33m)\u001b[0m\u001b[1;33m\u001b[0m\u001b[1;33m\u001b[0m\u001b[0m\n\u001b[0;32m     13\u001b[0m         \u001b[0mturtle\u001b[0m\u001b[1;33m.\u001b[0m\u001b[0mleft\u001b[0m\u001b[1;33m(\u001b[0m\u001b[1;36m216\u001b[0m\u001b[1;33m)\u001b[0m\u001b[1;33m\u001b[0m\u001b[1;33m\u001b[0m\u001b[0m\n",
      "\u001b[1;32mC:\\ProgramData\\Anaconda3\\lib\\turtle.py\u001b[0m in \u001b[0;36mforward\u001b[1;34m(distance)\u001b[0m\n",
      "\u001b[1;31mTerminator\u001b[0m: "
     ]
    }
   ],
   "source": [
    "import turtle\n",
    "turtle.speed(10)\n",
    "\n",
    "turtle.getscreen().bgcolor(\"#999444\")\n",
    "\n",
    "\n",
    "def star(turtle,size):\n",
    "    if size<=10:\n",
    "        return()\n",
    "    for i in range(5):\n",
    "        turtle.forward(size)\n",
    "        star(turtle,size/2)\n",
    "        turtle.left(216)\n",
    "    return()\n",
    "\n",
    "\n",
    "star(turtle,150)\n",
    "\n",
    "\n",
    "turtle.exitonclick()"
   ]
  },
  {
   "cell_type": "code",
   "execution_count": 2,
   "metadata": {},
   "outputs": [
    {
     "ename": "Terminator",
     "evalue": "",
     "output_type": "error",
     "traceback": [
      "\u001b[1;31m---------------------------------------------------------------------------\u001b[0m",
      "\u001b[1;31mTerminator\u001b[0m                                Traceback (most recent call last)",
      "\u001b[1;32m<ipython-input-2-24ffacf86cc9>\u001b[0m in \u001b[0;36m<module>\u001b[1;34m\u001b[0m\n\u001b[0;32m      2\u001b[0m \u001b[1;32mfrom\u001b[0m \u001b[0mrandom\u001b[0m \u001b[1;32mimport\u001b[0m \u001b[0mrandint\u001b[0m\u001b[1;33m\u001b[0m\u001b[1;33m\u001b[0m\u001b[0m\n\u001b[0;32m      3\u001b[0m \u001b[1;33m\u001b[0m\u001b[0m\n\u001b[1;32m----> 4\u001b[1;33m \u001b[0mt\u001b[0m\u001b[1;33m.\u001b[0m\u001b[0mspeed\u001b[0m\u001b[1;33m(\u001b[0m\u001b[1;36m10\u001b[0m\u001b[1;33m)\u001b[0m\u001b[1;33m\u001b[0m\u001b[1;33m\u001b[0m\u001b[0m\n\u001b[0m\u001b[0;32m      5\u001b[0m \u001b[1;33m\u001b[0m\u001b[0m\n\u001b[0;32m      6\u001b[0m \u001b[1;32mfor\u001b[0m \u001b[0mi\u001b[0m \u001b[1;32min\u001b[0m \u001b[0mrange\u001b[0m\u001b[1;33m(\u001b[0m\u001b[1;36m100\u001b[0m\u001b[1;33m)\u001b[0m\u001b[1;33m:\u001b[0m\u001b[1;33m\u001b[0m\u001b[1;33m\u001b[0m\u001b[0m\n",
      "\u001b[1;32mC:\\ProgramData\\Anaconda3\\lib\\turtle.py\u001b[0m in \u001b[0;36mspeed\u001b[1;34m(speed)\u001b[0m\n",
      "\u001b[1;31mTerminator\u001b[0m: "
     ]
    }
   ],
   "source": [
    "import turtle as t\n",
    "from random import randint\n",
    "\n",
    "t.speed(10)\n",
    "\n",
    "for i in range(100):\n",
    "    r=randint(0,255)\n",
    "    g=randint(0,255)\n",
    "    b=randint(0,255)\n",
    "    t.colormode(255)\n",
    "    t.pencolor(r,g,b)\n",
    "    t.forward(i+5)\n",
    "    t.right(90.99)\n",
    "\n",
    "t.exitonclick()\n",
    "    \n",
    "    "
   ]
  },
  {
   "cell_type": "code",
   "execution_count": 8,
   "metadata": {},
   "outputs": [
    {
     "data": {
      "text/plain": [
       "()"
      ]
     },
     "execution_count": 8,
     "metadata": {},
     "output_type": "execute_result"
    }
   ],
   "source": [
    "import turtle\n",
    "from random import randint\n",
    "turtle.speed(10)\n",
    "\n",
    "def star(turtle,size):\n",
    "    if size<=10:\n",
    "        return()\n",
    "    for i in range(5):\n",
    "        r=randint(0,255)\n",
    "        g=randint(0,255)\n",
    "        b=randint(0,255)\n",
    "        t.colormode(255)\n",
    "        t.pencolor(r,g,b)\n",
    "        turtle.forward(size)\n",
    "        star(turtle,size/2)\n",
    "        turtle.left(216)\n",
    "    return()\n",
    "\n",
    "\n",
    "star(turtle,150)\n",
    "turtle.exitonclick()"
   ]
  },
  {
   "cell_type": "code",
   "execution_count": 16,
   "metadata": {},
   "outputs": [
    {
     "ename": "Terminator",
     "evalue": "",
     "output_type": "error",
     "traceback": [
      "\u001b[1;31m---------------------------------------------------------------------------\u001b[0m",
      "\u001b[1;31mTerminator\u001b[0m                                Traceback (most recent call last)",
      "\u001b[1;32m<ipython-input-16-edfbed34ed00>\u001b[0m in \u001b[0;36m<module>\u001b[1;34m\u001b[0m\n\u001b[0;32m     15\u001b[0m \u001b[1;32mwhile\u001b[0m \u001b[1;32mTrue\u001b[0m\u001b[1;33m:\u001b[0m\u001b[1;33m\u001b[0m\u001b[1;33m\u001b[0m\u001b[0m\n\u001b[0;32m     16\u001b[0m     \u001b[0mforward\u001b[0m\u001b[1;33m(\u001b[0m\u001b[1;36m200\u001b[0m\u001b[1;33m)\u001b[0m\u001b[1;33m\u001b[0m\u001b[1;33m\u001b[0m\u001b[0m\n\u001b[1;32m---> 17\u001b[1;33m     \u001b[0mleft\u001b[0m\u001b[1;33m(\u001b[0m\u001b[1;36m170\u001b[0m\u001b[1;33m)\u001b[0m\u001b[1;33m\u001b[0m\u001b[1;33m\u001b[0m\u001b[0m\n\u001b[0m\u001b[0;32m     18\u001b[0m     \u001b[1;32mif\u001b[0m \u001b[0mabs\u001b[0m\u001b[1;33m(\u001b[0m\u001b[0mpos\u001b[0m\u001b[1;33m(\u001b[0m\u001b[1;33m)\u001b[0m\u001b[1;33m)\u001b[0m\u001b[1;33m<\u001b[0m\u001b[1;36m1\u001b[0m\u001b[1;33m:\u001b[0m\u001b[1;33m\u001b[0m\u001b[1;33m\u001b[0m\u001b[0m\n\u001b[0;32m     19\u001b[0m         \u001b[1;32mbreak\u001b[0m\u001b[1;33m\u001b[0m\u001b[1;33m\u001b[0m\u001b[0m\n",
      "\u001b[1;32mC:\\ProgramData\\Anaconda3\\lib\\turtle.py\u001b[0m in \u001b[0;36mleft\u001b[1;34m(angle)\u001b[0m\n",
      "\u001b[1;31mTerminator\u001b[0m: "
     ]
    }
   ],
   "source": [
    "from turtle import *\n",
    "color('red','yellow')\n",
    "begin_fill()\n",
    "while True:\n",
    "    forward(200)\n",
    "    left(170)\n",
    "    if abs(pos())<1:\n",
    "        break\n",
    "end_fill()\n",
    "\n",
    "exitonclick()"
   ]
  },
  {
   "cell_type": "code",
   "execution_count": 41,
   "metadata": {},
   "outputs": [
    {
     "name": "stdout",
     "output_type": "stream",
     "text": [
      "Enter your name pras\n",
      "Enter your gender male\n",
      "Enter your age 27\n"
     ]
    },
    {
     "data": {
      "text/plain": [
       "['pras', 'male', 27]"
      ]
     },
     "execution_count": 41,
     "metadata": {},
     "output_type": "execute_result"
    }
   ],
   "source": [
    "#chal lists\n",
    "a=[]\n",
    "a.append(input(\"Enter your name \"))\n",
    "a.append(input(\"Enter your gender \"))\n",
    "a.append(int(input(\"Enter your age \")))\n",
    "a"
   ]
  },
  {
   "cell_type": "code",
   "execution_count": 5,
   "metadata": {},
   "outputs": [
    {
     "name": "stdout",
     "output_type": "stream",
     "text": [
      "Super singer\n",
      "Bigg boss\n",
      "Comedy\n",
      "News\n",
      "Which program do you want to add to the list: Sembaruthi\n",
      "At which slot do you want to add this program with 0 being first slot? : 3\n",
      "\n",
      "\n",
      "Super singer\n",
      "Bigg boss\n",
      "Comedy\n",
      "Sembaruthi\n",
      "News\n"
     ]
    }
   ],
   "source": [
    "#chal 78\n",
    "\n",
    "prog=['Super singer','Bigg boss','Comedy','News']\n",
    "for i in prog:\n",
    "    print(i)\n",
    "newprog=input(\"Which program do you want to add to the list: \")\n",
    "newslot=int(input('At which slot do you want to add this program with 0 being first slot? : '))\n",
    "print('\\n')\n",
    "prog.insert(newslot,newprog)\n",
    "for i in prog:\n",
    "    print(i)\n"
   ]
  },
  {
   "cell_type": "code",
   "execution_count": 20,
   "metadata": {},
   "outputs": [
    {
     "data": {
      "text/plain": [
       "array.array"
      ]
     },
     "execution_count": 20,
     "metadata": {},
     "output_type": "execute_result"
    }
   ],
   "source": [
    "from array import *\n",
    "z=array('i',[24,78,13,4])\n",
    "type(z)"
   ]
  },
  {
   "cell_type": "code",
   "execution_count": 98,
   "metadata": {},
   "outputs": [
    {
     "name": "stdout",
     "output_type": "stream",
     "text": [
      "Enter an integer number : 4\n",
      "Enter an integer number : 67\n",
      "Enter an integer number : 23\n",
      "Enter an integer number : 12\n",
      "Enter an integer number : 0\n",
      "[0, 4, 12, 23, 67]\n"
     ]
    }
   ],
   "source": [
    "#challenge 88\n",
    "new_array=array('i',[])\n",
    "for i in range(5):\n",
    "    add_item=int(input(\"Enter an integer number : \"))\n",
    "    new_array.append(add_item)\n",
    "new_array=sorted(new_array)\n",
    "print(new_array)"
   ]
  },
  {
   "cell_type": "code",
   "execution_count": 3,
   "metadata": {},
   "outputs": [
    {
     "name": "stdout",
     "output_type": "stream",
     "text": [
      "78\n"
     ]
    },
    {
     "ename": "NameError",
     "evalue": "name 'mscore' is not defined",
     "output_type": "error",
     "traceback": [
      "\u001b[1;31m---------------------------------------------------------------------------\u001b[0m",
      "\u001b[1;31mNameError\u001b[0m                                 Traceback (most recent call last)",
      "\u001b[1;32m<ipython-input-3-1386b405f3e4>\u001b[0m in \u001b[0;36m<module>\u001b[1;34m\u001b[0m\n\u001b[0;32m      1\u001b[0m \u001b[0marr\u001b[0m\u001b[1;33m=\u001b[0m\u001b[1;33m{\u001b[0m\u001b[1;34m\"Ramesh\"\u001b[0m\u001b[1;33m:\u001b[0m\u001b[1;33m{\u001b[0m\u001b[1;34m'phy'\u001b[0m\u001b[1;33m:\u001b[0m\u001b[1;36m78\u001b[0m\u001b[1;33m,\u001b[0m\u001b[1;34m'chem'\u001b[0m\u001b[1;33m:\u001b[0m\u001b[1;36m78\u001b[0m\u001b[1;33m,\u001b[0m\u001b[1;34m'bio'\u001b[0m\u001b[1;33m:\u001b[0m\u001b[1;36m98\u001b[0m\u001b[1;33m}\u001b[0m\u001b[1;33m,\u001b[0m\u001b[1;34m'Suresh'\u001b[0m\u001b[1;33m:\u001b[0m\u001b[1;33m{\u001b[0m\u001b[1;34m'phy'\u001b[0m\u001b[1;33m:\u001b[0m\u001b[1;36m45\u001b[0m\u001b[1;33m,\u001b[0m\u001b[1;34m\"chem\"\u001b[0m\u001b[1;33m:\u001b[0m\u001b[1;36m67\u001b[0m\u001b[1;33m,\u001b[0m\u001b[1;34m\"bio\"\u001b[0m\u001b[1;33m:\u001b[0m\u001b[1;36m81\u001b[0m\u001b[1;33m}\u001b[0m\u001b[1;33m}\u001b[0m\u001b[1;33m\u001b[0m\u001b[1;33m\u001b[0m\u001b[0m\n\u001b[0;32m      2\u001b[0m \u001b[0mprint\u001b[0m\u001b[1;33m(\u001b[0m\u001b[0marr\u001b[0m\u001b[1;33m[\u001b[0m\u001b[1;34m'Ramesh'\u001b[0m\u001b[1;33m]\u001b[0m\u001b[1;33m[\u001b[0m\u001b[1;34m'phy'\u001b[0m\u001b[1;33m]\u001b[0m\u001b[1;33m)\u001b[0m\u001b[1;33m\u001b[0m\u001b[1;33m\u001b[0m\u001b[0m\n\u001b[1;32m----> 3\u001b[1;33m \u001b[0mhelp\u001b[0m\u001b[1;33m(\u001b[0m\u001b[0mmscore\u001b[0m\u001b[1;33m)\u001b[0m\u001b[1;33m\u001b[0m\u001b[1;33m\u001b[0m\u001b[0m\n\u001b[0m",
      "\u001b[1;31mNameError\u001b[0m: name 'mscore' is not defined"
     ]
    }
   ],
   "source": [
    "arr={\"Ramesh\":{'phy':78,'chem':78,'bio':98},'Suresh':{'phy':45,\"chem\":67,\"bio\":81}}\n",
    "print(arr['Ramesh']['phy'])\n",
    "help(mscore)"
   ]
  },
  {
   "cell_type": "code",
   "execution_count": null,
   "metadata": {},
   "outputs": [],
   "source": [
    "#printing sine curve\n",
    "from turtle import *\n",
    "from math import *\n",
    "from random import *\n",
    "\n",
    "speed(10)\n",
    "\n",
    "for i in range(360):\n",
    "    y=sin(i)\n",
    "    goto(5*i,104*y)\n",
    "    \n",
    "    \n",
    "\n",
    "exitonclick()"
   ]
  },
  {
   "cell_type": "code",
   "execution_count": 3,
   "metadata": {},
   "outputs": [],
   "source": [
    "file=open(\"Numbers.txt\",'w')\n",
    "file.write(\"4, \")\n",
    "file.write(\"6, \")\n",
    "file.write(\"10\")\n",
    "file.close()"
   ]
  },
  {
   "cell_type": "code",
   "execution_count": 15,
   "metadata": {},
   "outputs": [
    {
     "name": "stdout",
     "output_type": "stream",
     "text": [
      "4, 6, 10\n",
      "haha lets seee wtf is gonna happen now\n"
     ]
    }
   ],
   "source": [
    "file=open(\"Numbers.txt\",\"r\")\n",
    "print(file.read())"
   ]
  },
  {
   "cell_type": "code",
   "execution_count": 17,
   "metadata": {},
   "outputs": [
    {
     "name": "stdout",
     "output_type": "stream",
     "text": [
      "4, 6, 10\n",
      "haha lets seee wtf is gonna happen now\n"
     ]
    }
   ],
   "source": [
    "file=open(\"Numbers.txt\",\"r\")\n",
    "print(file.read())"
   ]
  },
  {
   "cell_type": "code",
   "execution_count": 2,
   "metadata": {},
   "outputs": [],
   "source": [
    "#challenges csv file\n",
    "\n",
    "from csv import *\n",
    "file=open(\"Books.csv\",'w')\n",
    "newrecord=\"Wings of fire \\n\")\n",
    "file.write(str(newrecord))\n",
    "file.close()\n"
   ]
  },
  {
   "cell_type": "code",
   "execution_count": 3,
   "metadata": {},
   "outputs": [
    {
     "name": "stdout",
     "output_type": "stream",
     "text": [
      "Enter a title: Lala Land\n",
      "Who is the author? :Lakshman\n"
     ]
    }
   ],
   "source": [
    "file=open(\"Books.csv\",'a')\n",
    "title=input(\"Enter a title: \")\n",
    "author=input(\"Who is the author? :\")\n",
    "newrecord=title+','+author+\"\\n\"\n",
    "file.write(str(newrecord))\n",
    "file.close()"
   ]
  },
  {
   "cell_type": "code",
   "execution_count": 4,
   "metadata": {},
   "outputs": [
    {
     "name": "stdout",
     "output_type": "stream",
     "text": [
      "Wings of fire \n",
      "\n",
      "Lala Land,Lakshman\n",
      "\n"
     ]
    }
   ],
   "source": [
    "file=open('Books.csv','r')\n",
    "for data in file:\n",
    "    print(data)"
   ]
  },
  {
   "cell_type": "code",
   "execution_count": 5,
   "metadata": {},
   "outputs": [
    {
     "name": "stdout",
     "output_type": "stream",
     "text": [
      "How many entries do you want to add? : 5\n",
      "Enter the book name : the paradise\n",
      "Enter the author name : shakeela\n",
      "Enter the book name : tamilagam\n",
      "Enter the author name : vijay\n",
      "Enter the book name : kaatrin mozhi\n",
      "Enter the author name : vijay\n",
      "Enter the book name : i love u\n",
      "Enter the author name : shakeel\n",
      "Enter the book name : i will hit u\n",
      "Enter the author name : lakshman\n",
      "Enter the author name you want to know about : vijay\n",
      "tamilagam,vijay\n",
      "\n",
      "kaatrin mozhi,vijay\n",
      "\n"
     ]
    }
   ],
   "source": [
    "file=open(\"Books.csv\",'a')\n",
    "num=int(input(\"How many entries do you want to add? : \"))\n",
    "for i in range(num):\n",
    "    book=input(\"Enter the book name : \")\n",
    "    author=input(\"Enter the author name : \")\n",
    "    newentry=book+','+author+'\\n'\n",
    "    file.write(str(newentry))\n",
    "file.close()\n",
    "\n",
    "file=open(\"Books.csv\",'r')\n",
    "author_det=input(\"Enter the author name you want to know about : \\n\")\n",
    "count=0\n",
    "for row in file:\n",
    "    if author_det in row:\n",
    "        print(str(row))\n",
    "        count+=1\n",
    "if count==0:\n",
    "    print(\"Author is not found in the database\")\n"
   ]
  },
  {
   "cell_type": "code",
   "execution_count": 6,
   "metadata": {},
   "outputs": [
    {
     "ename": "AttributeError",
     "evalue": "'_io.TextIOWrapper' object has no attribute 'append'",
     "output_type": "error",
     "traceback": [
      "\u001b[1;31m---------------------------------------------------------------------------\u001b[0m",
      "\u001b[1;31mAttributeError\u001b[0m                            Traceback (most recent call last)",
      "\u001b[1;32m<ipython-input-6-02f7a3540acd>\u001b[0m in \u001b[0;36m<module>\u001b[1;34m\u001b[0m\n\u001b[0;32m      1\u001b[0m \u001b[0mfile\u001b[0m\u001b[1;33m=\u001b[0m\u001b[0mopen\u001b[0m\u001b[1;33m(\u001b[0m\u001b[1;34m\"Books.csv\"\u001b[0m\u001b[1;33m,\u001b[0m\u001b[1;34m'a'\u001b[0m\u001b[1;33m)\u001b[0m\u001b[1;33m\u001b[0m\u001b[1;33m\u001b[0m\u001b[0m\n\u001b[1;32m----> 2\u001b[1;33m \u001b[0mfile\u001b[0m\u001b[1;33m.\u001b[0m\u001b[0mappend\u001b[0m\u001b[1;33m(\u001b[0m\u001b[1;34m\"Hi all\"\u001b[0m\u001b[1;33m)\u001b[0m\u001b[1;33m\u001b[0m\u001b[1;33m\u001b[0m\u001b[0m\n\u001b[0m\u001b[0;32m      3\u001b[0m \u001b[0mfile\u001b[0m\u001b[1;33m.\u001b[0m\u001b[0mclose\u001b[0m\u001b[1;33m(\u001b[0m\u001b[1;33m)\u001b[0m\u001b[1;33m\u001b[0m\u001b[1;33m\u001b[0m\u001b[0m\n",
      "\u001b[1;31mAttributeError\u001b[0m: '_io.TextIOWrapper' object has no attribute 'append'"
     ]
    }
   ],
   "source": [
    "file=open(\"Books.csv\",'a')\n",
    "file.append(\"Hi all\")\n",
    "file.close()"
   ]
  },
  {
   "cell_type": "code",
   "execution_count": 12,
   "metadata": {},
   "outputs": [
    {
     "name": "stdout",
     "output_type": "stream",
     "text": [
      "[['Wings of fire '], ['Lala Land', 'Lakshman'], ['the paradise', 'shakeela'], ['tamilagam', 'vijay'], ['kaatrin mozhi', 'vijay'], ['i love u', 'shakeel'], ['i will hit u', 'lakshman']]\n"
     ]
    }
   ],
   "source": [
    "from csv import *\n",
    "file=list(reader(open('Books.csv')))\n",
    "temp=[]\n",
    "for row in file:\n",
    "    temp.append(row)\n",
    "x=0\n",
    "for row in temp:\n",
    "    if temp[x][2]>=year1 and temp[x][2]<=year2:\n",
    "        print(temp[x])\n",
    "        x+=1\n",
    "        "
   ]
  },
  {
   "cell_type": "code",
   "execution_count": 3,
   "metadata": {},
   "outputs": [],
   "source": [
    "file=open(\"Practise.csv\",'w')\n",
    "file.write(\"5\")\n",
    "file.close()"
   ]
  },
  {
   "cell_type": "code",
   "execution_count": 6,
   "metadata": {},
   "outputs": [],
   "source": [
    "file=open(\"Practise.csv\",'w')\n",
    "newrecord=\"Name\"+','+\"physics\"+','+'chem'+','+'bio\\n'\n",
    "file.write(str(newrecord))\n",
    "file.close()"
   ]
  },
  {
   "cell_type": "code",
   "execution_count": 7,
   "metadata": {},
   "outputs": [],
   "source": [
    "file=open('Practise.csv','a')\n",
    "newrecord1=\"Ramesh\"+','+\"56\"+','+\"98\"+','+\"Fail\"\n",
    "file.write(str(newrecord1))\n",
    "file.close()"
   ]
  },
  {
   "cell_type": "code",
   "execution_count": 8,
   "metadata": {},
   "outputs": [],
   "source": [
    "from csv import *\n",
    "file=list(reader(open(\"Practise.csv\")))\n",
    "temp1=[]\n",
    "for row in file:\n",
    "    temp1.append(row)\n",
    "\n"
   ]
  },
  {
   "cell_type": "code",
   "execution_count": 9,
   "metadata": {},
   "outputs": [
    {
     "name": "stdout",
     "output_type": "stream",
     "text": [
      "[['Name', 'physics', 'chem', 'bio'], ['Ramesh', '56', '98', 'Fail']]\n"
     ]
    }
   ],
   "source": [
    "print(temp1)"
   ]
  },
  {
   "cell_type": "code",
   "execution_count": 10,
   "metadata": {},
   "outputs": [],
   "source": [
    "temp1[0]=\"test\""
   ]
  },
  {
   "cell_type": "code",
   "execution_count": null,
   "metadata": {},
   "outputs": [],
   "source": []
  },
  {
   "cell_type": "code",
   "execution_count": 11,
   "metadata": {},
   "outputs": [
    {
     "data": {
      "text/plain": [
       "['test', ['Ramesh', '56', '98', 'Fail']]"
      ]
     },
     "execution_count": 11,
     "metadata": {},
     "output_type": "execute_result"
    }
   ],
   "source": [
    "temp1"
   ]
  },
  {
   "cell_type": "code",
   "execution_count": 12,
   "metadata": {},
   "outputs": [],
   "source": [
    "temp1[1][2]=\"78\""
   ]
  },
  {
   "cell_type": "code",
   "execution_count": 13,
   "metadata": {},
   "outputs": [
    {
     "name": "stdout",
     "output_type": "stream",
     "text": [
      "['test', ['Ramesh', '56', '78', 'Fail']]\n"
     ]
    }
   ],
   "source": [
    "print(temp1)"
   ]
  },
  {
   "cell_type": "code",
   "execution_count": 14,
   "metadata": {},
   "outputs": [
    {
     "data": {
      "text/plain": [
       "['test', ['Ramesh', '56', '78', 'Pass']]"
      ]
     },
     "execution_count": 14,
     "metadata": {},
     "output_type": "execute_result"
    }
   ],
   "source": [
    "temp1[1][3]=\"Pass\"\n",
    "temp1"
   ]
  },
  {
   "cell_type": "code",
   "execution_count": 27,
   "metadata": {},
   "outputs": [],
   "source": [
    "from csv import *\n",
    "file=open(\"Practise.csv\",'w')\n",
    "i=0\n",
    "for row in temp1:\n",
    "    new=temp1[i][0]+','+temp1[i][1]+','+temp1[i][2]+','+temp1[i][3]+'\\n'\n",
    "    file.write(new)\n",
    "    i+=1\n",
    "file.close()\n",
    "    "
   ]
  },
  {
   "cell_type": "code",
   "execution_count": null,
   "metadata": {},
   "outputs": [],
   "source": [
    "#Game show Chal 120\n",
    "import math\n",
    "from random import *\n",
    "\n",
    "def add():\n",
    "    r1=randint(1,100)\n",
    "    r2=randint(1,100)\n",
    "    sum=r1+r2\n",
    "    ans=int(input(\"What is the sum of {} and {} ?: \".format(r1,r2)))\n",
    "    if ans==sum:\n",
    "        print(\"Your answer is correct\")\n",
    "    else:\n",
    "        print(\"Your answer is incorrect\\n The correct answer is \",sum)\n",
    "        \n",
    "def sub():\n",
    "    r1=randint(1,100)\n",
    "    r2=randint(1,100)\n",
    "    sum=r1-r2\n",
    "    ans=int(input(\"What is the difference of {} and {} ?: \".format(r1,r2)))\n",
    "    if ans==sum:\n",
    "        print(\"Your answer is correct\")\n",
    "    else:\n",
    "        print(\"Your answer is incorrect\\n The correct answer is \",sum)\n",
    "        \n",
    "def main():\n",
    "    sel=int(input(\"Enter 1 for Addition\\n      2 for substraction\\n\"))\n",
    "    if sel==1:\n",
    "        add()\n",
    "        return(0)\n",
    "    elif sel==2:\n",
    "        sub()\n",
    "        return(0)\n",
    "    else:\n",
    "        print(\"Enter a valid option\\n\")\n",
    "        return(1)\n",
    "    \n",
    "\n",
    "a=1\n",
    "while(a):\n",
    "    b=main()\n",
    "    a=b"
   ]
  },
  {
   "cell_type": "code",
   "execution_count": 11,
   "metadata": {},
   "outputs": [],
   "source": [
    "from tkinter import *\n",
    "\n",
    "def call():\n",
    "    msg=Label(window,text='You pressed the button')\n",
    "    msg.place(x=30,y=50)\n",
    "    button['bg']='blue'\n",
    "    button['fg']='white'\n",
    "\n",
    "window=Tk()\n",
    "window.geometry(\"200x110\")\n",
    "button=Button(text='Press me',command=call)\n",
    "button.place(x=30,y=20,width=120,height=25)\n",
    "window.mainloop()"
   ]
  },
  {
   "cell_type": "code",
   "execution_count": 65,
   "metadata": {},
   "outputs": [
    {
     "ename": "ModuleNotFoundError",
     "evalue": "No module named 'tkMessageBox'",
     "output_type": "error",
     "traceback": [
      "\u001b[1;31m---------------------------------------------------------------------------\u001b[0m",
      "\u001b[1;31mModuleNotFoundError\u001b[0m                       Traceback (most recent call last)",
      "\u001b[1;32m<ipython-input-65-2d36938208d0>\u001b[0m in \u001b[0;36m<module>\u001b[1;34m\u001b[0m\n\u001b[0;32m      1\u001b[0m \u001b[1;32mimport\u001b[0m \u001b[0mtkinter\u001b[0m\u001b[1;33m\u001b[0m\u001b[1;33m\u001b[0m\u001b[0m\n\u001b[1;32m----> 2\u001b[1;33m \u001b[1;32mimport\u001b[0m \u001b[0mtkMessageBox\u001b[0m\u001b[1;33m\u001b[0m\u001b[1;33m\u001b[0m\u001b[0m\n\u001b[0m\u001b[0;32m      3\u001b[0m \u001b[0mtop\u001b[0m\u001b[1;33m=\u001b[0m\u001b[0mTk\u001b[0m\u001b[1;33m(\u001b[0m\u001b[1;33m)\u001b[0m\u001b[1;33m\u001b[0m\u001b[1;33m\u001b[0m\u001b[0m\n\u001b[0;32m      4\u001b[0m \u001b[1;33m\u001b[0m\u001b[0m\n\u001b[0;32m      5\u001b[0m \u001b[1;32mdef\u001b[0m \u001b[0mhellocallback\u001b[0m\u001b[1;33m(\u001b[0m\u001b[1;33m)\u001b[0m\u001b[1;33m:\u001b[0m\u001b[1;33m\u001b[0m\u001b[1;33m\u001b[0m\u001b[0m\n",
      "\u001b[1;31mModuleNotFoundError\u001b[0m: No module named 'tkMessageBox'"
     ]
    }
   ],
   "source": [
    "import tkinter\n",
    "import tkMessageBox\n",
    "top=Tk()\n",
    "\n",
    "def hellocallback():\n",
    "    tkmessage.showinfo(\"Hello\")\n",
    "    \n",
    "b=Button(top,text=\"Hello\",command=hellocallback)\n",
    "\n",
    "b.pack()\n",
    "top.mainloop()"
   ]
  },
  {
   "cell_type": "code",
   "execution_count": 9,
   "metadata": {},
   "outputs": [],
   "source": [
    "from tkinter import *\n",
    "from tkinter.ttk import *\n",
    "root=Tk()\n",
    "root.title('First')\n",
    "label=Label(root,text='Hello').pack()\n",
    "root.mainloop()\n"
   ]
  },
  {
   "cell_type": "code",
   "execution_count": 41,
   "metadata": {},
   "outputs": [
    {
     "name": "stderr",
     "output_type": "stream",
     "text": [
      "Exception in Tkinter callback\n",
      "Traceback (most recent call last):\n",
      "  File \"C:\\ProgramData\\Anaconda3\\lib\\tkinter\\__init__.py\", line 1883, in __call__\n",
      "    return self.func(*args)\n",
      "  File \"<ipython-input-41-fac2d0701277>\", line 7, in click\n",
      "    textbox2['text']=message\n",
      "  File \"C:\\ProgramData\\Anaconda3\\lib\\tkinter\\__init__.py\", line 1648, in __setitem__\n",
      "    self.configure({key: value})\n",
      "  File \"C:\\ProgramData\\Anaconda3\\lib\\tkinter\\__init__.py\", line 1637, in configure\n",
      "    return self._configure('configure', cnf, kw)\n",
      "  File \"C:\\ProgramData\\Anaconda3\\lib\\tkinter\\__init__.py\", line 1627, in _configure\n",
      "    self.tk.call(_flatten((self._w, cmd)) + self._options(cnf))\n",
      "_tkinter.TclError: invalid command name \".!message\"\n"
     ]
    }
   ],
   "source": [
    "from tkinter import *\n",
    "\n",
    "\n",
    "def click():\n",
    "    name=textbox1.get()\n",
    "    message=str(\"Hello {}\".format(name))\n",
    "    textbox2['text']=message\n",
    "    \n",
    "    \n",
    "window=Tk()\n",
    "window.title(\"Hello\")\n",
    "window.geometry(\"450x300\")\n",
    "labell=Label(text=\"Enter your name:\")\n",
    "labell.place(x=20,y=20)\n",
    "\n",
    "textbox1=Entry(text=' ')\n",
    "textbox1.place(x=150,y=20,width=200,height=25)\n",
    "\n",
    "textbox1.focus()\n",
    "\n",
    "\n",
    "button1=Button(text=\"Press me\",command=click)\n",
    "button1.place(x=350,y=20,width=80,height=25)\n",
    "\n",
    "\n",
    "textbox2=Message(text=\"\")\n",
    "textbox2.place(x=150,y=50,width=250,height=25)\n",
    "textbox2['bg']=\"white\"\n",
    "textbox2['fg']='black'\n",
    "window.mainloop()"
   ]
  },
  {
   "cell_type": "code",
   "execution_count": null,
   "metadata": {},
   "outputs": [],
   "source": []
  },
  {
   "cell_type": "code",
   "execution_count": 114,
   "metadata": {},
   "outputs": [
    {
     "ename": "TclError",
     "evalue": "bad entry index \"<class 'str'>\"",
     "output_type": "error",
     "traceback": [
      "\u001b[1;31m---------------------------------------------------------------------------\u001b[0m",
      "\u001b[1;31mTclError\u001b[0m                                  Traceback (most recent call last)",
      "\u001b[1;32m<ipython-input-114-ef3d2ae3b269>\u001b[0m in \u001b[0;36m<module>\u001b[1;34m\u001b[0m\n\u001b[0;32m      5\u001b[0m \u001b[1;33m\u001b[0m\u001b[0m\n\u001b[0;32m      6\u001b[0m \u001b[0me\u001b[0m\u001b[1;33m=\u001b[0m\u001b[0mEntry\u001b[0m\u001b[1;33m(\u001b[0m\u001b[0mwindow\u001b[0m\u001b[1;33m,\u001b[0m\u001b[0mwidth\u001b[0m\u001b[1;33m=\u001b[0m\u001b[1;36m50\u001b[0m\u001b[1;33m,\u001b[0m\u001b[0mborderwidth\u001b[0m\u001b[1;33m=\u001b[0m\u001b[1;36m10\u001b[0m\u001b[1;33m)\u001b[0m\u001b[1;33m\u001b[0m\u001b[1;33m\u001b[0m\u001b[0m\n\u001b[1;32m----> 7\u001b[1;33m \u001b[0me\u001b[0m\u001b[1;33m.\u001b[0m\u001b[0minsert\u001b[0m\u001b[1;33m(\u001b[0m\u001b[0mstr\u001b[0m\u001b[1;33m,\u001b[0m\u001b[1;34m\"Enter your name\"\u001b[0m\u001b[1;33m)\u001b[0m\u001b[1;33m\u001b[0m\u001b[1;33m\u001b[0m\u001b[0m\n\u001b[0m\u001b[0;32m      8\u001b[0m \u001b[0me\u001b[0m\u001b[1;33m.\u001b[0m\u001b[0mpack\u001b[0m\u001b[1;33m(\u001b[0m\u001b[1;33m)\u001b[0m\u001b[1;33m\u001b[0m\u001b[1;33m\u001b[0m\u001b[0m\n\u001b[0;32m      9\u001b[0m \u001b[1;33m\u001b[0m\u001b[0m\n",
      "\u001b[1;32mC:\\ProgramData\\Anaconda3\\lib\\tkinter\\__init__.py\u001b[0m in \u001b[0;36minsert\u001b[1;34m(self, index, string)\u001b[0m\n\u001b[0;32m   3049\u001b[0m     \u001b[1;32mdef\u001b[0m \u001b[0minsert\u001b[0m\u001b[1;33m(\u001b[0m\u001b[0mself\u001b[0m\u001b[1;33m,\u001b[0m \u001b[0mindex\u001b[0m\u001b[1;33m,\u001b[0m \u001b[0mstring\u001b[0m\u001b[1;33m)\u001b[0m\u001b[1;33m:\u001b[0m\u001b[1;33m\u001b[0m\u001b[1;33m\u001b[0m\u001b[0m\n\u001b[0;32m   3050\u001b[0m         \u001b[1;34m\"\"\"Insert STRING at INDEX.\"\"\"\u001b[0m\u001b[1;33m\u001b[0m\u001b[1;33m\u001b[0m\u001b[0m\n\u001b[1;32m-> 3051\u001b[1;33m         \u001b[0mself\u001b[0m\u001b[1;33m.\u001b[0m\u001b[0mtk\u001b[0m\u001b[1;33m.\u001b[0m\u001b[0mcall\u001b[0m\u001b[1;33m(\u001b[0m\u001b[0mself\u001b[0m\u001b[1;33m.\u001b[0m\u001b[0m_w\u001b[0m\u001b[1;33m,\u001b[0m \u001b[1;34m'insert'\u001b[0m\u001b[1;33m,\u001b[0m \u001b[0mindex\u001b[0m\u001b[1;33m,\u001b[0m \u001b[0mstring\u001b[0m\u001b[1;33m)\u001b[0m\u001b[1;33m\u001b[0m\u001b[1;33m\u001b[0m\u001b[0m\n\u001b[0m\u001b[0;32m   3052\u001b[0m \u001b[1;33m\u001b[0m\u001b[0m\n\u001b[0;32m   3053\u001b[0m     \u001b[1;32mdef\u001b[0m \u001b[0mscan_mark\u001b[0m\u001b[1;33m(\u001b[0m\u001b[0mself\u001b[0m\u001b[1;33m,\u001b[0m \u001b[0mx\u001b[0m\u001b[1;33m)\u001b[0m\u001b[1;33m:\u001b[0m\u001b[1;33m\u001b[0m\u001b[1;33m\u001b[0m\u001b[0m\n",
      "\u001b[1;31mTclError\u001b[0m: bad entry index \"<class 'str'>\""
     ]
    }
   ],
   "source": [
    "from tkinter import *\n",
    "\n",
    "window=Tk()\n",
    "\n",
    "\n",
    "e=Entry(window,width=50,borderwidth=10)\n",
    "e.insert(0,\"Enter your name\")\n",
    "e.pack()\n",
    "\n",
    "def click():\n",
    "    label1=Label(text=\"Hello \"+e.get())\n",
    "    label1.pack()\n",
    "    \n",
    "    \n",
    "button1=Button(window,text='CLick here',command=click,fg='Blue')\n",
    "button1.pack()\n",
    "\n",
    "    \n",
    "\n",
    "\n",
    "\n",
    "\n",
    "window.mainloop()\n"
   ]
  },
  {
   "cell_type": "code",
   "execution_count": 2,
   "metadata": {},
   "outputs": [],
   "source": [
    "import sqlite3\n",
    "with sqlite3.connect('company.db') as db:\n",
    "    cursor=db.cursor()"
   ]
  },
  {
   "cell_type": "code",
   "execution_count": 7,
   "metadata": {},
   "outputs": [
    {
     "data": {
      "text/plain": [
       "<sqlite3.Cursor at 0x2009abde340>"
      ]
     },
     "execution_count": 7,
     "metadata": {},
     "output_type": "execute_result"
    }
   ],
   "source": [
    "cursor.execute(\"\"\"CREATE TABLE IF NOT EXISTS employees(id  integer PRIMARY KEY ,name text NOT NULL,dept text NOT NULL,salary integer);\"\"\")\n"
   ]
  },
  {
   "cell_type": "code",
   "execution_count": null,
   "metadata": {},
   "outputs": [],
   "source": []
  },
  {
   "cell_type": "code",
   "execution_count": null,
   "metadata": {},
   "outputs": [],
   "source": []
  },
  {
   "cell_type": "code",
   "execution_count": 9,
   "metadata": {},
   "outputs": [
    {
     "ename": "OperationalError",
     "evalue": "unrecognized token: \"\"INSERT INTO employees(id,name,dept,salary) VALUES('1','Bob','Sales','25000')\"",
     "output_type": "error",
     "traceback": [
      "\u001b[1;31m---------------------------------------------------------------------------\u001b[0m",
      "\u001b[1;31mOperationalError\u001b[0m                          Traceback (most recent call last)",
      "\u001b[1;32m<ipython-input-9-e8bca6e233f7>\u001b[0m in \u001b[0;36m<module>\u001b[1;34m\u001b[0m\n\u001b[1;32m----> 1\u001b[1;33m \u001b[0mcursor\u001b[0m\u001b[1;33m.\u001b[0m\u001b[0mexecute\u001b[0m\u001b[1;33m(\u001b[0m\u001b[1;34m\"\"\"\"INSERT INTO employees(id,name,dept,salary) VALUES('1','Bob','Sales','25000')\"\"\"\u001b[0m\u001b[1;33m)\u001b[0m\u001b[1;33m\u001b[0m\u001b[1;33m\u001b[0m\u001b[0m\n\u001b[0m\u001b[0;32m      2\u001b[0m \u001b[0mdb\u001b[0m\u001b[1;33m.\u001b[0m\u001b[0mcommit\u001b[0m\u001b[1;33m(\u001b[0m\u001b[1;33m)\u001b[0m\u001b[1;33m\u001b[0m\u001b[1;33m\u001b[0m\u001b[0m\n",
      "\u001b[1;31mOperationalError\u001b[0m: unrecognized token: \"\"INSERT INTO employees(id,name,dept,salary) VALUES('1','Bob','Sales','25000')\""
     ]
    }
   ],
   "source": [
    "cursor.execute(\"\"\"\"INSERT INTO employees(id,name,dept,salary) VALUES('1','Bob','Sales','25000')\"\"\")\n",
    "db.commit()"
   ]
  },
  {
   "cell_type": "code",
   "execution_count": 10,
   "metadata": {},
   "outputs": [
    {
     "ename": "ModuleNotFoundError",
     "evalue": "No module named 'pymysql'",
     "output_type": "error",
     "traceback": [
      "\u001b[1;31m---------------------------------------------------------------------------\u001b[0m",
      "\u001b[1;31mModuleNotFoundError\u001b[0m                       Traceback (most recent call last)",
      "\u001b[1;32m<ipython-input-10-a3468f635445>\u001b[0m in \u001b[0;36m<module>\u001b[1;34m\u001b[0m\n\u001b[0;32m      1\u001b[0m \u001b[1;31m#!/usr/bin/python3\u001b[0m\u001b[1;33m\u001b[0m\u001b[1;33m\u001b[0m\u001b[1;33m\u001b[0m\u001b[0m\n\u001b[0;32m      2\u001b[0m \u001b[1;33m\u001b[0m\u001b[0m\n\u001b[1;32m----> 3\u001b[1;33m \u001b[1;32mimport\u001b[0m \u001b[0mpymysql\u001b[0m\u001b[1;33m\u001b[0m\u001b[1;33m\u001b[0m\u001b[0m\n\u001b[0m\u001b[0;32m      4\u001b[0m \u001b[1;33m\u001b[0m\u001b[0m\n\u001b[0;32m      5\u001b[0m \u001b[1;31m# Open database connection\u001b[0m\u001b[1;33m\u001b[0m\u001b[1;33m\u001b[0m\u001b[1;33m\u001b[0m\u001b[0m\n",
      "\u001b[1;31mModuleNotFoundError\u001b[0m: No module named 'pymysql'"
     ]
    }
   ],
   "source": [
    "#!/usr/bin/python3\n",
    "\n",
    "import pymysql\n",
    "\n",
    "# Open database connection\n",
    "db = pymysql.connect(\"localhost\",\"testuser\",\"test123\",\"TESTDB\" )\n",
    "\n",
    "# prepare a cursor object using cursor() method\n",
    "cursor = db.cursor()\n",
    "\n",
    "# execute SQL query using execute() method.\n",
    "cursor.execute(\"SELECT VERSION()\")\n",
    "\n",
    "# Fetch a single row using fetchone() method.\n",
    "data = cursor.fetchone()\n",
    "print (\"Database version : %s \" % data)\n",
    "\n",
    "# disconnect from server\n",
    "db.close()"
   ]
  },
  {
   "cell_type": "code",
   "execution_count": null,
   "metadata": {},
   "outputs": [],
   "source": [
    "+"
   ]
  }
 ],
 "metadata": {
  "kernelspec": {
   "display_name": "Python 3",
   "language": "python",
   "name": "python3"
  },
  "language_info": {
   "codemirror_mode": {
    "name": "ipython",
    "version": 3
   },
   "file_extension": ".py",
   "mimetype": "text/x-python",
   "name": "python",
   "nbconvert_exporter": "python",
   "pygments_lexer": "ipython3",
   "version": "3.8.3"
  }
 },
 "nbformat": 4,
 "nbformat_minor": 4
}
