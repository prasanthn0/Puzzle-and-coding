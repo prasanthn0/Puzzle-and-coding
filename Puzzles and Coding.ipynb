{
 "cells": [
  {
   "cell_type": "code",
   "execution_count": null,
   "metadata": {},
   "outputs": [],
   "source": [
    "Formaula 1 ( f1 ) :\n",
    "    Bits and Decimals :\n",
    "        1 bit can represent 2 decimals ( 1 or 0 ).\n",
    "        2 bits can represent 4 decimals ( 0, 1, 2, 3).\n",
    "        3 bits can represent 8 decimals ( 0, 1 ,2 ,3 ,4 ,5 ,6 ,7 ) and so on.\n",
    "        Hence n bits can represent 2^n decimals.\n",
    "        \n",
    "        Similarly ,number of bits required to represent x number of decial values is (log x)/(log 2) i.e log (x) to the base 2.\n",
    "        Why?\n",
    "        Binary has 2 digits , 0 and 1.\n",
    "        \n",
    "        Code : math.ceil( math.log (x)/math.log (2))  \n",
    "                            or \n",
    "                math.ceil ( math.log ( x , 2 ))     # log (x,base) if base is not specified, default is base e."
   ]
  },
  {
   "cell_type": "code",
   "execution_count": null,
   "metadata": {},
   "outputs": [],
   "source": [
    "Application f1 :  Poisoned bottle ad rats problem\n",
    "    \n",
    "    \n",
    "    \n",
    "    Problem:  There are x number of bottle of which 1 is poisoned. \n",
    "        Example : if there are 1000 bottles, then we need 10 rats [ log (1000 , 2) ]\n",
    "            \n",
    "            Each bottle will be numbered from 1 to 1000.. and each rat will be numbered from 1 to 10 .\n",
    "            \n",
    "            Rat 1 will represent first bit of every binary number. \n",
    "            Rat 2 will represent second bit of every binary number and so on.\n",
    "            \n",
    "            If the corresponding bit is 1 , then that rat is fed from that bottle.\n",
    "            If the corresponding bit is 0 , then that rat is ot fed from that bottle.\n",
    "            \n",
    "            After 1 hour , rats that die are marked down . And corresponding set of bottle numbers with bit 1 is extracted.\n",
    "            rat 1 = { 1 ,56,23,190,567 }\n",
    "            rat 5 = (45 ,231 ,567 ,998 ) and so on\n",
    "            \n",
    "            Intersection of these sets will give us the bottle number/s that is/are poisoned.\n",
    "            \n",
    "            "
   ]
  },
  {
   "cell_type": "code",
   "execution_count": null,
   "metadata": {},
   "outputs": [],
   "source": [
    "Solution steps :\n",
    "    1. Ask the user for number of bottles.\n",
    "    2. Compute the number of rats required and inform the user.\n",
    "    3. Create a Dataframe csv with Rats vs Bottle using get_dummies method.\n",
    "    4. Ask the User which rats died.\n",
    "    5. Analyze the dataframe and extract the bottle numbers corresponding to the inputted rat numbers.\n",
    "    6. Find the intersectio of these sets."
   ]
  },
  {
   "cell_type": "code",
   "execution_count": 27,
   "metadata": {},
   "outputs": [
    {
     "name": "stdout",
     "output_type": "stream",
     "text": [
      "Enter the number of bottles to be analyzed : 8\n",
      "Number of rats required for identification is 3\n",
      "['Rat_3', 'Rat_2', 'Rat_1']\n",
      "\n",
      "\n",
      "['Bottle_1', 'Bottle_2', 'Bottle_3', 'Bottle_4', 'Bottle_5', 'Bottle_6', 'Bottle_7', 'Bottle_8']\n",
      "\n",
      "\n"
     ]
    },
    {
     "data": {
      "text/html": [
       "<div>\n",
       "<style scoped>\n",
       "    .dataframe tbody tr th:only-of-type {\n",
       "        vertical-align: middle;\n",
       "    }\n",
       "\n",
       "    .dataframe tbody tr th {\n",
       "        vertical-align: top;\n",
       "    }\n",
       "\n",
       "    .dataframe thead th {\n",
       "        text-align: right;\n",
       "    }\n",
       "</style>\n",
       "<table border=\"1\" class=\"dataframe\">\n",
       "  <thead>\n",
       "    <tr style=\"text-align: right;\">\n",
       "      <th></th>\n",
       "      <th>Bottle_1</th>\n",
       "      <th>Bottle_2</th>\n",
       "      <th>Bottle_3</th>\n",
       "      <th>Bottle_4</th>\n",
       "      <th>Bottle_5</th>\n",
       "      <th>Bottle_6</th>\n",
       "      <th>Bottle_7</th>\n",
       "      <th>Bottle_8</th>\n",
       "    </tr>\n",
       "  </thead>\n",
       "  <tbody>\n",
       "    <tr>\n",
       "      <th>0</th>\n",
       "      <td>1</td>\n",
       "      <td>0</td>\n",
       "      <td>0</td>\n",
       "      <td>0</td>\n",
       "      <td>0</td>\n",
       "      <td>0</td>\n",
       "      <td>0</td>\n",
       "      <td>0</td>\n",
       "    </tr>\n",
       "    <tr>\n",
       "      <th>1</th>\n",
       "      <td>0</td>\n",
       "      <td>1</td>\n",
       "      <td>0</td>\n",
       "      <td>0</td>\n",
       "      <td>0</td>\n",
       "      <td>0</td>\n",
       "      <td>0</td>\n",
       "      <td>0</td>\n",
       "    </tr>\n",
       "    <tr>\n",
       "      <th>2</th>\n",
       "      <td>0</td>\n",
       "      <td>0</td>\n",
       "      <td>1</td>\n",
       "      <td>0</td>\n",
       "      <td>0</td>\n",
       "      <td>0</td>\n",
       "      <td>0</td>\n",
       "      <td>0</td>\n",
       "    </tr>\n",
       "    <tr>\n",
       "      <th>3</th>\n",
       "      <td>0</td>\n",
       "      <td>0</td>\n",
       "      <td>0</td>\n",
       "      <td>1</td>\n",
       "      <td>0</td>\n",
       "      <td>0</td>\n",
       "      <td>0</td>\n",
       "      <td>0</td>\n",
       "    </tr>\n",
       "    <tr>\n",
       "      <th>4</th>\n",
       "      <td>0</td>\n",
       "      <td>0</td>\n",
       "      <td>0</td>\n",
       "      <td>0</td>\n",
       "      <td>1</td>\n",
       "      <td>0</td>\n",
       "      <td>0</td>\n",
       "      <td>0</td>\n",
       "    </tr>\n",
       "    <tr>\n",
       "      <th>5</th>\n",
       "      <td>0</td>\n",
       "      <td>0</td>\n",
       "      <td>0</td>\n",
       "      <td>0</td>\n",
       "      <td>0</td>\n",
       "      <td>1</td>\n",
       "      <td>0</td>\n",
       "      <td>0</td>\n",
       "    </tr>\n",
       "    <tr>\n",
       "      <th>6</th>\n",
       "      <td>0</td>\n",
       "      <td>0</td>\n",
       "      <td>0</td>\n",
       "      <td>0</td>\n",
       "      <td>0</td>\n",
       "      <td>0</td>\n",
       "      <td>1</td>\n",
       "      <td>0</td>\n",
       "    </tr>\n",
       "    <tr>\n",
       "      <th>7</th>\n",
       "      <td>0</td>\n",
       "      <td>0</td>\n",
       "      <td>0</td>\n",
       "      <td>0</td>\n",
       "      <td>0</td>\n",
       "      <td>0</td>\n",
       "      <td>0</td>\n",
       "      <td>1</td>\n",
       "    </tr>\n",
       "  </tbody>\n",
       "</table>\n",
       "</div>"
      ],
      "text/plain": [
       "   Bottle_1  Bottle_2  Bottle_3  Bottle_4  Bottle_5  Bottle_6  Bottle_7  \\\n",
       "0         1         0         0         0         0         0         0   \n",
       "1         0         1         0         0         0         0         0   \n",
       "2         0         0         1         0         0         0         0   \n",
       "3         0         0         0         1         0         0         0   \n",
       "4         0         0         0         0         1         0         0   \n",
       "5         0         0         0         0         0         1         0   \n",
       "6         0         0         0         0         0         0         1   \n",
       "7         0         0         0         0         0         0         0   \n",
       "\n",
       "   Bottle_8  \n",
       "0         0  \n",
       "1         0  \n",
       "2         0  \n",
       "3         0  \n",
       "4         0  \n",
       "5         0  \n",
       "6         0  \n",
       "7         1  "
      ]
     },
     "execution_count": 27,
     "metadata": {},
     "output_type": "execute_result"
    }
   ],
   "source": [
    "import math\n",
    "import pandas as pd\n",
    "\n",
    "\n",
    "bottles= int(input('Enter the number of bottles to be analyzed : '))\n",
    "rats= math.log(bottles, 2)\n",
    "rats = math.ceil(rats)\n",
    "print(f'Number of rats required for identification is {rats}')\n",
    "\n",
    "ratIndex = [f'Rat_{i}' for i in reversed(range(1,rats+1))]\n",
    "bottleIndex = [f'Bottle_{i}' for i in range(1,bottles+1)]\n",
    "print(ratIndex)\n",
    "print('\\n')\n",
    "print(bottleIndex)\n",
    "print('\\n')\n",
    "\n",
    "df=pd.DataFrame(bottleIndex,columns=['bottles'])\n",
    "\n",
    "df1=pd.get_dummies(df['bottles'])\n",
    "\n",
    "df1\n",
    "\n",
    "\n",
    "\n"
   ]
  },
  {
   "cell_type": "code",
   "execution_count": null,
   "metadata": {},
   "outputs": [],
   "source": [
    "import pandas as pd\n",
    "data = pd.DataFrame(bottleIndex , index=ratIndex )\n",
    "res = pd.get_dummies(data)\n",
    "res.to_csv('output.csv')\n",
    "print(res)"
   ]
  },
  {
   "cell_type": "code",
   "execution_count": 16,
   "metadata": {},
   "outputs": [
    {
     "name": "stdout",
     "output_type": "stream",
     "text": [
      "0b101\n"
     ]
    }
   ],
   "source": [
    "a=5\n",
    "print(bin(a))"
   ]
  },
  {
   "cell_type": "code",
   "execution_count": 18,
   "metadata": {},
   "outputs": [
    {
     "name": "stdout",
     "output_type": "stream",
     "text": [
      "None\n"
     ]
    }
   ],
   "source": [
    "def binbits(x, n):\n",
    "    \"\"\"Return binary representation of x with at least n bits\"\"\"\n",
    "    bits = bin(x).split('b')[1]\n",
    "\n",
    "    if len(bits) < n:\n",
    "        return '0b' + '0' * (n - len(bits)) + bits\n",
    "    \n",
    "print(binbits(5,3))"
   ]
  },
  {
   "cell_type": "code",
   "execution_count": 36,
   "metadata": {},
   "outputs": [
    {
     "data": {
      "text/plain": [
       "'0'"
      ]
     },
     "execution_count": 36,
     "metadata": {},
     "output_type": "execute_result"
    }
   ],
   "source": [
    "str(bin(0))[2:]"
   ]
  },
  {
   "cell_type": "code",
   "execution_count": null,
   "metadata": {},
   "outputs": [],
   "source": []
  },
  {
   "cell_type": "code",
   "execution_count": null,
   "metadata": {},
   "outputs": [],
   "source": []
  },
  {
   "cell_type": "code",
   "execution_count": null,
   "metadata": {},
   "outputs": [],
   "source": []
  }
 ],
 "metadata": {
  "kernelspec": {
   "display_name": "Python 3",
   "language": "python",
   "name": "python3"
  },
  "language_info": {
   "codemirror_mode": {
    "name": "ipython",
    "version": 3
   },
   "file_extension": ".py",
   "mimetype": "text/x-python",
   "name": "python",
   "nbconvert_exporter": "python",
   "pygments_lexer": "ipython3",
   "version": "3.8.3"
  }
 },
 "nbformat": 4,
 "nbformat_minor": 4
}
