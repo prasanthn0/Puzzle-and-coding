{
 "cells": [
  {
   "cell_type": "code",
   "execution_count": 10,
   "metadata": {},
   "outputs": [
    {
     "name": "stdout",
     "output_type": "stream",
     "text": [
      "[18, 7, 7, 15, 7]\n"
     ]
    }
   ],
   "source": [
    "There are 5 blocks of buildings linearly... And there are requirements for someone moving in to one of these blocks. \n",
    "If reqs = ( gym , school , store ) , write a code to find the optimum block to move into such that the person has to travel\n",
    "minimum distances to reach all reqs."
   ]
  },
  {
   "cell_type": "code",
   "execution_count": 45,
   "metadata": {},
   "outputs": [
    {
     "name": "stdout",
     "output_type": "stream",
     "text": [
      "Optimum residence is Block Number : 3\n",
      "Optimum residence is Block Number : 4\n",
      "Optimum residence is Block Number : 5\n"
     ]
    }
   ],
   "source": [
    "blocks=[\n",
    "    {\n",
    "        'gym':False ,\n",
    "    'school':True ,\n",
    "    'store': False, \n",
    "    },\n",
    "     {\n",
    "        'gym': True,\n",
    "    'school': False,\n",
    "    'store': False, \n",
    "    },\n",
    "     {\n",
    "        'gym': True,\n",
    "    'school': True,\n",
    "    'store': False, \n",
    "    },\n",
    "     {\n",
    "        'gym': False,\n",
    "    'school': True,\n",
    "    'store': False, \n",
    "    },\n",
    "     {\n",
    "        'gym': False,\n",
    "    'school': True,\n",
    "    'store': True,\n",
    "    }\n",
    "]\n",
    "\n",
    "calc=[]\n",
    "for track,block in enumerate(blocks):\n",
    "    for value in block:\n",
    "        if block[value]== True:\n",
    "            calc.append(0)\n",
    "            continue\n",
    "        dist=[]\n",
    "        for index,block_chk in enumerate(blocks):\n",
    "            if index!=track and block_chk[value]==True:\n",
    "                dist.append(index)\n",
    "        dist=[abs(distance-track) for distance in dist]\n",
    "        mini=min(dist)\n",
    "        calc.append(mini)\n",
    "        \n",
    "min_distances = []\n",
    "i=0\n",
    "while i<len(calc):\n",
    "    sum=calc[i]+calc[i+1]+calc[i+2]\n",
    "    min_distances.append(sum)\n",
    "    i=i+3\n",
    "    \n",
    "val=min(min_distances)\n",
    "\n",
    "\n",
    "for sel,i in enumerate(min_distances):\n",
    "    if i==val:\n",
    "        print(f\"Optimum residence is Block Number : {sel+1}\")\n",
    "        "
   ]
  },
  {
   "cell_type": "code",
   "execution_count": 3,
   "metadata": {},
   "outputs": [
    {
     "name": "stdout",
     "output_type": "stream",
     "text": [
      "Optimum residence is Block Number : 4\n"
     ]
    }
   ],
   "source": [
    "blocks=[\n",
    "    {\n",
    "        'gym':False,\n",
    "    'school':False ,\n",
    "    'store': False, \n",
    "    },\n",
    "     {\n",
    "        'gym': False,\n",
    "    'school': False,\n",
    "    'store': False, \n",
    "    },\n",
    "     {\n",
    "        'gym': False,\n",
    "    'school': True,\n",
    "    'store': False, \n",
    "    },\n",
    "     {\n",
    "        'gym': True,\n",
    "    'school': False,\n",
    "    'store': False, \n",
    "    },\n",
    "     {\n",
    "        'gym': False,\n",
    "    'school': False,\n",
    "    'store': True,\n",
    "    }\n",
    "]\n",
    "\n",
    "calc=[]\n",
    "for track,block in enumerate(blocks):\n",
    "    for value in block:\n",
    "        if block[value]== True:\n",
    "            calc.append(0)\n",
    "            continue\n",
    "        dist=[]\n",
    "        for index,block_chk in enumerate(blocks):\n",
    "            if index!=track and block_chk[value]==True:\n",
    "                dist.append(index)\n",
    "        dist=[abs(distance-track) for distance in dist]    #To find the actual distances between 2 points.\n",
    "        mini=min(dist)   # To find the smallet distance between 2 selected blocks.\n",
    "        calc.append(mini)\n",
    "        \n",
    "min_distances = []\n",
    "i=0\n",
    "while i<len(calc):\n",
    "    sum=calc[i]+calc[i+1]+calc[i+2]\n",
    "    min_distances.append(sum)\n",
    "    i=i+3\n",
    "    \n",
    "val=min(min_distances)\n",
    "\n",
    "\n",
    "for sel,i in enumerate(min_distances):\n",
    "    if i==val:\n",
    "        print(f\"Optimum residence is Block Number : {sel+1}\")\n",
    "        "
   ]
  },
  {
   "cell_type": "code",
   "execution_count": null,
   "metadata": {},
   "outputs": [],
   "source": [
    "Method 2 :\n",
    "    \n",
    "    \n",
    "    Find the distance between a block and nearest block with requirements. Maximum of the distances for all req from current \n",
    "    block. Compare these values to find the answer\n",
    "    \n",
    "    Drawback :\n",
    "        Time complexity = o (B^2 * R)  , B is blocks and R is requirements\n",
    "        Space complexity = o (B)\n",
    "        \n",
    "        "
   ]
  },
  {
   "cell_type": "code",
   "execution_count": 4,
   "metadata": {},
   "outputs": [
    {
     "name": "stdout",
     "output_type": "stream",
     "text": [
      "Optimum apartment is 3\n"
     ]
    }
   ],
   "source": [
    "def apartment ( blocks , reqs ):\n",
    "    maxDistance=[float('-inf') for block in blocks]\n",
    "    for i in range(len(blocks)):\n",
    "        for req in reqs:\n",
    "            closestreqDistance=float('inf')\n",
    "            for j in range(len(blocks)):\n",
    "                if blocks[j][req]:\n",
    "                    closestreqDistance= min(closestreqDistance, shortDistance(i,j))\n",
    "            maxDistance[i] =max(maxDistance[i],closestreqDistance)   \n",
    "    indexAtMinValue=0\n",
    "    minValue=float('inf')\n",
    "    for i in range(len(maxDistance)):\n",
    "        currentValue=maxDistance[i]\n",
    "        if currentValue < minValue:\n",
    "            minValue=currentValue\n",
    "            indexAtMinValue=i\n",
    "            \n",
    "    return indexAtMinValue\n",
    "        \n",
    "    \n",
    "                    \n",
    "                    \n",
    "                    \n",
    "def shortDistance(i,j):\n",
    "    return abs(i-j)\n",
    "\n",
    "\n",
    "\n",
    "\n",
    "blocks=[\n",
    "    {\n",
    "        'gym':False,\n",
    "    'school':False ,\n",
    "    'store': False, \n",
    "    },\n",
    "     {\n",
    "        'gym': False,\n",
    "    'school': False,\n",
    "    'store': False, \n",
    "    },\n",
    "     {\n",
    "        'gym': False,\n",
    "    'school': True,\n",
    "    'store': False, \n",
    "    },\n",
    "     {\n",
    "        'gym': True,\n",
    "    'school': False,\n",
    "    'store': False, \n",
    "    },\n",
    "     {\n",
    "        'gym': False,\n",
    "    'school': False,\n",
    "    'store': True,\n",
    "    }\n",
    "]\n",
    "\n",
    "\n",
    "reqs=['gym','school','store']\n",
    "\n",
    "print(f'Optimum apartment is {apartment(blocks,reqs)}')"
   ]
  },
  {
   "cell_type": "code",
   "execution_count": null,
   "metadata": {},
   "outputs": [],
   "source": [
    "def apartment(blocks,reqs):\n",
    "    minDIstance=list(map(lambda req:getDistance(blocks,req) ,reqs))\n",
    "    pass\n",
    "\n",
    "\n",
    "def getDistance(blocks,req):\n",
    "    minDistances=[0 for block in blocks]\n",
    "    closestReqidx= float('inf')\n",
    "    \n",
    "    for i in range(len(blocks)):\n",
    "        if blocks[i][req]:\n",
    "            closestReqidx=i\n",
    "        minDistance[i]=distance(i,closestReqidx)\n",
    "        \n",
    "    for i in reversed(range(len(blocks))):\n",
    "        if blocks[i][req]:\n",
    "            closestReqidx=i\n",
    "        minDistance[i]=min(minDistance[i], distance(i,closestReqidx))\n",
    "        \n",
    "\n",
    "        \n",
    "        \n",
    "def distance(a,b):\n",
    "    return abs(a-b)\n",
    "        \n",
    "    "
   ]
  },
  {
   "cell_type": "code",
   "execution_count": null,
   "metadata": {},
   "outputs": [],
   "source": []
  },
  {
   "cell_type": "code",
   "execution_count": null,
   "metadata": {},
   "outputs": [],
   "source": []
  },
  {
   "cell_type": "code",
   "execution_count": null,
   "metadata": {},
   "outputs": [],
   "source": []
  },
  {
   "cell_type": "code",
   "execution_count": null,
   "metadata": {},
   "outputs": [],
   "source": []
  },
  {
   "cell_type": "code",
   "execution_count": null,
   "metadata": {},
   "outputs": [],
   "source": []
  },
  {
   "cell_type": "code",
   "execution_count": null,
   "metadata": {},
   "outputs": [],
   "source": []
  },
  {
   "cell_type": "code",
   "execution_count": null,
   "metadata": {},
   "outputs": [],
   "source": []
  },
  {
   "cell_type": "code",
   "execution_count": null,
   "metadata": {},
   "outputs": [],
   "source": []
  },
  {
   "cell_type": "code",
   "execution_count": null,
   "metadata": {},
   "outputs": [],
   "source": []
  },
  {
   "cell_type": "code",
   "execution_count": null,
   "metadata": {},
   "outputs": [],
   "source": []
  },
  {
   "cell_type": "code",
   "execution_count": null,
   "metadata": {},
   "outputs": [],
   "source": []
  },
  {
   "cell_type": "code",
   "execution_count": null,
   "metadata": {},
   "outputs": [],
   "source": []
  },
  {
   "cell_type": "code",
   "execution_count": null,
   "metadata": {},
   "outputs": [],
   "source": []
  },
  {
   "cell_type": "code",
   "execution_count": null,
   "metadata": {},
   "outputs": [],
   "source": []
  },
  {
   "cell_type": "code",
   "execution_count": null,
   "metadata": {},
   "outputs": [],
   "source": []
  },
  {
   "cell_type": "code",
   "execution_count": null,
   "metadata": {},
   "outputs": [],
   "source": []
  },
  {
   "cell_type": "code",
   "execution_count": null,
   "metadata": {},
   "outputs": [],
   "source": []
  },
  {
   "cell_type": "code",
   "execution_count": null,
   "metadata": {},
   "outputs": [],
   "source": []
  },
  {
   "cell_type": "code",
   "execution_count": null,
   "metadata": {},
   "outputs": [],
   "source": []
  }
 ],
 "metadata": {
  "kernelspec": {
   "display_name": "Python 3",
   "language": "python",
   "name": "python3"
  },
  "language_info": {
   "codemirror_mode": {
    "name": "ipython",
    "version": 3
   },
   "file_extension": ".py",
   "mimetype": "text/x-python",
   "name": "python",
   "nbconvert_exporter": "python",
   "pygments_lexer": "ipython3",
   "version": "3.8.3"
  }
 },
 "nbformat": 4,
 "nbformat_minor": 4
}
