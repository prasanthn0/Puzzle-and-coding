{
 "cells": [
  {
   "cell_type": "markdown",
   "metadata": {},
   "source": [
    "## problem :\n",
    "    Array of non-duplicate numbers. find 3 number whose sum is equal to targetsum"
   ]
  },
  {
   "cell_type": "code",
   "execution_count": 2,
   "metadata": {},
   "outputs": [
    {
     "name": "stdout",
     "output_type": "stream",
     "text": [
      "[[1, 8, 10], [2, 7, 10], [2, 8, 9], [3, 6, 10], [3, 7, 9], [4, 5, 10], [4, 6, 9], [4, 7, 8], [5, 6, 8]]\n"
     ]
    }
   ],
   "source": [
    "def threenumbersum(array,targetsum):\n",
    "    triplets=[]\n",
    "    array.sort()\n",
    "    for i in range(len(array)-2):\n",
    "        left=i+1\n",
    "        right=len(array)-1\n",
    "        while left<right :\n",
    "            currentsum=array[left]+array[right]+array[i]\n",
    "            if currentsum==targetsum:\n",
    "                triplets.append([array[i],array[left],array[right]])\n",
    "                left=left+1\n",
    "                right=right-1\n",
    "            elif currentsum<targetsum:\n",
    "                left=left+1\n",
    "            elif currentsum>targetsum:\n",
    "                right=right-1\n",
    "                \n",
    "    return triplets\n",
    "\n",
    "array=[1,2,3,4,5,6,7,8,9,10]\n",
    "t=19\n",
    "print(threenumbersum(array,t))"
   ]
  },
  {
   "cell_type": "code",
   "execution_count": null,
   "metadata": {},
   "outputs": [],
   "source": []
  },
  {
   "cell_type": "code",
   "execution_count": null,
   "metadata": {},
   "outputs": [],
   "source": [
    "problem :\n",
    "    There are 2 arrays. Find a number pair with smallest difference such that one number comes from one array and \n",
    "    other from other array.\n",
    "    i.e., 2 closest numbers."
   ]
  },
  {
   "cell_type": "code",
   "execution_count": null,
   "metadata": {},
   "outputs": [],
   "source": [
    "a=[2,45,78,12,90,91]\n",
    "b=[35,24,78,65,10,73]\n",
    "\n",
    "They can be paired together for each element in a to each element in b. But is this optimal?\n",
    "\n",
    "\n",
    "Another method :\n",
    "    1. sort the arrays.\n",
    "    2. Select 2 random numbers from both arrays x3 and y5\n",
    "    3. compute the difference and if its equal to zero , then we have the answer.\n",
    "    4. if not , check if x3 < y5 :\n",
    "        then we must ignore all numbers below x3 since the difference will only grow.\n",
    "        similarly, ignore all numbers above y5 since difference will grow again.\n",
    "        \n",
    "        \n",
    "    5. to make it simple , pointers can start from the beginining.. and move both the pointers accordingly.\n",
    "    \n",
    "    Time= nlogn+mlogm\n",
    "    space=o(1)"
   ]
  },
  {
   "cell_type": "code",
   "execution_count": 4,
   "metadata": {},
   "outputs": [
    {
     "name": "stdout",
     "output_type": "stream",
     "text": [
      "[12, 10]\n"
     ]
    }
   ],
   "source": [
    "def smalldif(array1,array2):\n",
    "    array1.sort()\n",
    "    array2.sort()\n",
    "    id1=0\n",
    "    id2=0\n",
    "    smallest=float('inf')\n",
    "    current= float('inf')\n",
    "    small_pair=[]\n",
    "    while id1<len(array1) and id2<len(array2):\n",
    "        firstnum=array1[id1]\n",
    "        secondnum=array2[id2]\n",
    "        if firstnum<secondnum:\n",
    "            current= secondnum-firstnum\n",
    "            id1=id1+1\n",
    "        elif firstnum>secondnum:\n",
    "            current= firstnum-secondnum\n",
    "            id2=id2+1\n",
    "        else:\n",
    "            return [firstnum,secondnum]\n",
    "            \n",
    "        if current < smallest:\n",
    "            smallest=current\n",
    "            small_pair=[firstnum,secondnum]\n",
    "    return small_pair\n",
    "\n",
    "a=[2,45,78,12,90,91]\n",
    "b=[35,24,37,65,10,73]\n",
    "print(smalldif(a,b))\n",
    "            "
   ]
  },
  {
   "cell_type": "code",
   "execution_count": 12,
   "metadata": {},
   "outputs": [
    {
     "data": {
      "text/plain": [
       "'Non-monotonic'"
      ]
     },
     "execution_count": 12,
     "metadata": {},
     "output_type": "execute_result"
    }
   ],
   "source": [
    "def ismonotonic(array):  #Should be entirely non-decreasing or non-increasing..meaning 2 elements can also be equal.\n",
    "    \n",
    "    Nondecreasing=True\n",
    "    Nonincreasing=True\n",
    "    for i in range(1,len(array)):\n",
    "        if array[i]<array[i-1]:\n",
    "            Nondecreasing=False\n",
    "        if array[i]>array[i-1]:\n",
    "            Nonincreasing=False\n",
    "    if Nondecreasing:\n",
    "        return 'Nondecreasing'  \n",
    "    if Nonincreasing:\n",
    "        return 'Nonincreasing'\n",
    "    else:\n",
    "        return 'Non-monotonic'\n",
    "\n",
    "array=[1,2,3,4,5,6,0]\n",
    "ismonotonic(array)\n",
    "            \n",
    "    "
   ]
  },
  {
   "cell_type": "markdown",
   "metadata": {},
   "source": [
    "![<caption>](Pictures/spiralarray.png) "
   ]
  },
  {
   "cell_type": "code",
   "execution_count": null,
   "metadata": {},
   "outputs": [],
   "source": [
    "#2d-spiral array problem :\n",
    "#output = [1,2,3,4,5,6,7,8,....16]"
   ]
  },
  {
   "cell_type": "code",
   "execution_count": null,
   "metadata": {},
   "outputs": [],
   "source": [
    "def spiralarray(array):\n",
    "    result=[]\n",
    "    startrow , endrow= 0 , len(array)-1\n",
    "    startcol , endcol = 0 , len(array[0])-1\n",
    "    \n",
    "    while startrow<=endrow and startcol<=endcol:\n",
    "        for col in range(startcol,endcol+1):\n",
    "            result.append(array[startrow][col])\n",
    "        \n",
    "        for row in range(startrow , endrow+1):\n",
    "            result.append(array[row,endcol])\n",
    "        \n",
    "        for col in range(startcol,endcol):\n",
    "            result.append(endrow,col)\n",
    "        \n",
    "        for row in range(startrow+1,endrow):\n",
    "            result.append(row,firstcol)\n",
    "            \n",
    "        startrow += 1\n",
    "        endrow -= 1\n",
    "        startcol += 1\n",
    "        endcol -= 1\n",
    "        \n",
    "    return result\n",
    "\n",
    "\n",
    "def spiralfill(array):\n",
    "    \n",
    "    \n",
    "    "
   ]
  },
  {
   "cell_type": "code",
   "execution_count": null,
   "metadata": {},
   "outputs": [],
   "source": [
    "#Longest Peak :\n",
    " # Atleast 3 integers such that they are in peak shape amplitude wise.. i.e. 1,2,3,2,1,8\n",
    "    1,2,3,2,1 form a peak...\n",
    "    strictly increasing , reach a peak , strictly decreasing\n",
    "    \n",
    "    "
   ]
  },
  {
   "cell_type": "code",
   "execution_count": 15,
   "metadata": {},
   "outputs": [
    {
     "name": "stdout",
     "output_type": "stream",
     "text": [
      "Maximum length of the longest peak is 9\n"
     ]
    }
   ],
   "source": [
    "def longestPeak(array):\n",
    "    maxLength=0\n",
    "    i=1\n",
    "    \n",
    "    while i < len(array)-1:\n",
    "        isPeak = array[i-1]<array[i] and array[i+1]<array[i]\n",
    "            \n",
    "        if not isPeak : \n",
    "            i=i+1\n",
    "            continue\n",
    "        \n",
    "        leftIndex=i-2\n",
    "       \n",
    "        while leftIndex<=0 and array[leftIndex]<array[leftIndex+1]:\n",
    "            leftIndex-=1\n",
    "        \n",
    "        rightIndex=i+2\n",
    "        \n",
    "        while rightIndex<len(array) and array[rightIndex]<array[rightIndex-1]:\n",
    "            rightIndex+=1\n",
    "            \n",
    "        length=rightIndex-leftIndex-1\n",
    "        maxLength=max(length,maxLength)\n",
    "        i=rightIndex\n",
    "       \n",
    "        \n",
    "    print(f'Maximum length of the longest peak is {maxLength}')\n",
    "    \n",
    "\n",
    "        \n",
    "    \n",
    "    \n",
    "array=[3,4,5,4,3,2,1,2]\n",
    "longestPeak(array)   \n",
    "    "
   ]
  },
  {
   "cell_type": "code",
   "execution_count": null,
   "metadata": {},
   "outputs": [],
   "source": [
    "Problem :\n",
    "    \n",
    "    Four Number Sum :\n",
    "        \n",
    "        Four numbers in an array that sum to given target sum.\n",
    "        \n",
    "        Quadruples = 2x of 2 number pairs.\n",
    "        x and y , p and q\n",
    "        "
   ]
  },
  {
   "cell_type": "code",
   "execution_count": null,
   "metadata": {},
   "outputs": [],
   "source": []
  },
  {
   "cell_type": "code",
   "execution_count": null,
   "metadata": {},
   "outputs": [],
   "source": []
  },
  {
   "cell_type": "code",
   "execution_count": null,
   "metadata": {},
   "outputs": [],
   "source": []
  },
  {
   "cell_type": "code",
   "execution_count": null,
   "metadata": {},
   "outputs": [],
   "source": []
  },
  {
   "cell_type": "code",
   "execution_count": null,
   "metadata": {},
   "outputs": [],
   "source": []
  },
  {
   "cell_type": "code",
   "execution_count": null,
   "metadata": {},
   "outputs": [],
   "source": []
  },
  {
   "cell_type": "code",
   "execution_count": null,
   "metadata": {},
   "outputs": [],
   "source": []
  },
  {
   "cell_type": "code",
   "execution_count": null,
   "metadata": {},
   "outputs": [],
   "source": []
  },
  {
   "cell_type": "code",
   "execution_count": null,
   "metadata": {},
   "outputs": [],
   "source": []
  },
  {
   "cell_type": "code",
   "execution_count": null,
   "metadata": {},
   "outputs": [],
   "source": []
  },
  {
   "cell_type": "code",
   "execution_count": null,
   "metadata": {},
   "outputs": [],
   "source": []
  },
  {
   "cell_type": "code",
   "execution_count": null,
   "metadata": {},
   "outputs": [],
   "source": []
  }
 ],
 "metadata": {
  "kernelspec": {
   "display_name": "Python 3",
   "language": "python",
   "name": "python3"
  },
  "language_info": {
   "codemirror_mode": {
    "name": "ipython",
    "version": 3
   },
   "file_extension": ".py",
   "mimetype": "text/x-python",
   "name": "python",
   "nbconvert_exporter": "python",
   "pygments_lexer": "ipython3",
   "version": "3.8.3"
  }
 },
 "nbformat": 4,
 "nbformat_minor": 4
}
